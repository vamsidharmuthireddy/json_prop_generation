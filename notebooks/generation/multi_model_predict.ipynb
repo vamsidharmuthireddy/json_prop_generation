{
 "cells": [
  {
   "cell_type": "code",
   "execution_count": null,
   "id": "d8465a2d-b3e8-412c-b274-41a5534cdf5a",
   "metadata": {},
   "outputs": [],
   "source": [
    "import joblib"
   ]
  },
  {
   "cell_type": "code",
   "execution_count": null,
   "id": "a06acb45-862e-425e-b440-7595aa519389",
   "metadata": {},
   "outputs": [],
   "source": []
  },
  {
   "cell_type": "code",
   "execution_count": null,
   "id": "40815900-a454-4093-8c3b-fa0de589a921",
   "metadata": {},
   "outputs": [],
   "source": [
    "model_loaded = joblib.load('../models/generation/model.pkl')\n",
    "tokenizer_loaded = joblib.load('../models/generation/tokenizer.pkl')\n",
    "feature_extractor_loaded = joblib.load('../models/generation/feature_extractor.pkl')\n",
    "\n"
   ]
  },
  {
   "cell_type": "code",
   "execution_count": null,
   "id": "e02f755b-5aaf-490e-8c42-42f4251f5347",
   "metadata": {},
   "outputs": [],
   "source": [
    "generated_caption = tokenizer_loaded.decode(model_loaded.generate(feature_extractor_loaded(img, return_tensors=\"pt\").pixel_values.to(\"cuda\"))[0], \n",
    "                                            skip_special_tokens=True)\n",
    "\n",
    "print(generated_caption)"
   ]
  }
 ],
 "metadata": {
  "kernelspec": {
   "display_name": "Python 3 (ipykernel)",
   "language": "python",
   "name": "python3"
  },
  "language_info": {
   "codemirror_mode": {
    "name": "ipython",
    "version": 3
   },
   "file_extension": ".py",
   "mimetype": "text/x-python",
   "name": "python",
   "nbconvert_exporter": "python",
   "pygments_lexer": "ipython3",
   "version": "3.9.16"
  }
 },
 "nbformat": 4,
 "nbformat_minor": 5
}
