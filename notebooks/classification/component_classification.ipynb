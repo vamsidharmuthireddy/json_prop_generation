{
 "cells": [
  {
   "cell_type": "code",
   "execution_count": 1,
   "metadata": {
    "gradient": {
     "editing": false
    }
   },
   "outputs": [
    {
     "name": "stderr",
     "output_type": "stream",
     "text": [
      "2023-04-02 01:02:44.303477: I tensorflow/core/platform/cpu_feature_guard.cc:182] This TensorFlow binary is optimized to use available CPU instructions in performance-critical operations.\n",
      "To enable the following instructions: AVX2 FMA, in other operations, rebuild TensorFlow with the appropriate compiler flags.\n",
      "2023-04-02 01:02:44.854466: W tensorflow/compiler/tf2tensorrt/utils/py_utils.cc:38] TF-TRT Warning: Could not find TensorRT\n"
     ]
    },
    {
     "data": {
      "application/javascript": "IPython.notebook.set_autosave_interval(1000)"
     },
     "metadata": {},
     "output_type": "display_data"
    },
    {
     "name": "stdout",
     "output_type": "stream",
     "text": [
      "Autosaving every 1 seconds\n"
     ]
    }
   ],
   "source": [
    "\n",
    "\n",
    "\n",
    "\n",
    "from imutils import paths\n",
    "import tensorflow as tf\n",
    "# from tf.data import AUTOTUNE\n",
    "# tf.data.experimental.AUTOTUNE\n",
    "\n",
    "\n",
    "\n",
    "\n",
    "from tensorflow.keras.layers import *\n",
    "from tensorflow.keras.models import Sequential, Model\n",
    "from tensorflow.keras import models, regularizers, layers, optimizers, losses, metrics\n",
    "\n",
    "from tensorflow.keras.models import *\n",
    "from tensorflow.keras.utils import to_categorical\n",
    "\n",
    "from tensorflow.keras.optimizers import *\n",
    "from tensorflow.keras.callbacks import ModelCheckpoint, ReduceLROnPlateau\n",
    "import numpy as np\n",
    "import matplotlib.pyplot as plt\n",
    "import os\n",
    "\n",
    "from tensorflow.keras.applications.resnet_v2 import ResNet50V2\n",
    "import random\n",
    "\n",
    "from wandb.keras import WandbCallback\n",
    "%autosave 1"
   ]
  },
  {
   "cell_type": "code",
   "execution_count": 2,
   "metadata": {},
   "outputs": [],
   "source": []
  },
  {
   "cell_type": "code",
   "execution_count": 3,
   "metadata": {},
   "outputs": [
    {
     "data": {
      "application/javascript": "IPython.notebook.kernel.execute('notebook_name = \"' + IPython.notebook.notebook_name + '\"')\n",
      "text/plain": [
       "<IPython.core.display.Javascript object>"
      ]
     },
     "metadata": {},
     "output_type": "display_data"
    }
   ],
   "source": [
    "notebook_name = None\n",
    "\n",
    "%%javascript\n",
    "IPython.notebook.kernel.execute('notebook_name = \"' + IPython.notebook.notebook_name + '\"')\n",
    "\n",
    "if notebook_name is None:\n",
    "    notebook_name = 'component_classification.ipynb'\n",
    "print(notebook_name)"
   ]
  },
  {
   "cell_type": "code",
   "execution_count": 6,
   "metadata": {
    "gradient": {
     "editing": false
    }
   },
   "outputs": [
    {
     "name": "stderr",
     "output_type": "stream",
     "text": [
      "2023-04-02 01:02:46.154039: I tensorflow/compiler/xla/stream_executor/cuda/cuda_gpu_executor.cc:996] successful NUMA node read from SysFS had negative value (-1), but there must be at least one NUMA node, so returning NUMA node zero. See more at https://github.com/torvalds/linux/blob/v6.0/Documentation/ABI/testing/sysfs-bus-pci#L344-L355\n",
      "2023-04-02 01:02:46.188428: I tensorflow/compiler/xla/stream_executor/cuda/cuda_gpu_executor.cc:996] successful NUMA node read from SysFS had negative value (-1), but there must be at least one NUMA node, so returning NUMA node zero. See more at https://github.com/torvalds/linux/blob/v6.0/Documentation/ABI/testing/sysfs-bus-pci#L344-L355\n",
      "2023-04-02 01:02:46.188698: I tensorflow/compiler/xla/stream_executor/cuda/cuda_gpu_executor.cc:996] successful NUMA node read from SysFS had negative value (-1), but there must be at least one NUMA node, so returning NUMA node zero. See more at https://github.com/torvalds/linux/blob/v6.0/Documentation/ABI/testing/sysfs-bus-pci#L344-L355\n",
      "2023-04-02 01:02:46.769782: I tensorflow/compiler/xla/stream_executor/cuda/cuda_gpu_executor.cc:996] successful NUMA node read from SysFS had negative value (-1), but there must be at least one NUMA node, so returning NUMA node zero. See more at https://github.com/torvalds/linux/blob/v6.0/Documentation/ABI/testing/sysfs-bus-pci#L344-L355\n",
      "2023-04-02 01:02:46.770009: I tensorflow/compiler/xla/stream_executor/cuda/cuda_gpu_executor.cc:996] successful NUMA node read from SysFS had negative value (-1), but there must be at least one NUMA node, so returning NUMA node zero. See more at https://github.com/torvalds/linux/blob/v6.0/Documentation/ABI/testing/sysfs-bus-pci#L344-L355\n",
      "2023-04-02 01:02:46.770174: I tensorflow/compiler/xla/stream_executor/cuda/cuda_gpu_executor.cc:996] successful NUMA node read from SysFS had negative value (-1), but there must be at least one NUMA node, so returning NUMA node zero. See more at https://github.com/torvalds/linux/blob/v6.0/Documentation/ABI/testing/sysfs-bus-pci#L344-L355\n",
      "2023-04-02 01:02:46.770316: I tensorflow/core/common_runtime/gpu/gpu_device.cc:1635] Created device /job:localhost/replica:0/task:0/device:GPU:0 with 4600 MB memory:  -> device: 0, name: NVIDIA GeForce GTX 1660 Ti, pci bus id: 0000:01:00.0, compute capability: 7.5\n"
     ]
    }
   ],
   "source": [
    "from tensorflow.python.keras import backend as K\n",
    "config = tf.compat.v1.ConfigProto()\n",
    "config.gpu_options.allow_growth = True\n",
    "sess = tf.compat.v1.Session(config=config)\n",
    "K.set_session(sess)\n"
   ]
  },
  {
   "cell_type": "code",
   "execution_count": 7,
   "metadata": {
    "gradient": {
     "editing": false
    }
   },
   "outputs": [
    {
     "name": "stdout",
     "output_type": "stream",
     "text": [
      "2023-04-01-19-32-46\n"
     ]
    }
   ],
   "source": [
    "from time import gmtime, strftime\n",
    "session_key = strftime(\"%Y-%m-%d-%H-%M-%S\", gmtime())\n",
    "print(session_key)"
   ]
  },
  {
   "cell_type": "code",
   "execution_count": 9,
   "metadata": {
    "gradient": {
     "editing": false
    }
   },
   "outputs": [
    {
     "name": "stderr",
     "output_type": "stream",
     "text": [
      "\u001b[34m\u001b[1mwandb\u001b[0m: Currently logged in as: \u001b[33mvamsidhar_muthireddy\u001b[0m. Use \u001b[1m`wandb login --relogin`\u001b[0m to force relogin\n"
     ]
    },
    {
     "data": {
      "text/html": [
       "Tracking run with wandb version 0.14.0"
      ],
      "text/plain": [
       "<IPython.core.display.HTML object>"
      ]
     },
     "metadata": {},
     "output_type": "display_data"
    },
    {
     "data": {
      "text/html": [
       "Run data is saved locally in <code>/home/vamsidhar/Documents/purecode/solution_1/wandb/run-20230402_010248-rn5x7grd</code>"
      ],
      "text/plain": [
       "<IPython.core.display.HTML object>"
      ]
     },
     "metadata": {},
     "output_type": "display_data"
    },
    {
     "data": {
      "text/html": [
       "Syncing run <strong><a href='https://wandb.ai/vamsidhar_muthireddy/component-classification/runs/rn5x7grd' target=\"_blank\">prime-gorge-3</a></strong> to <a href='https://wandb.ai/vamsidhar_muthireddy/component-classification' target=\"_blank\">Weights & Biases</a> (<a href='https://wandb.me/run' target=\"_blank\">docs</a>)<br/>"
      ],
      "text/plain": [
       "<IPython.core.display.HTML object>"
      ]
     },
     "metadata": {},
     "output_type": "display_data"
    },
    {
     "data": {
      "text/html": [
       " View project at <a href='https://wandb.ai/vamsidhar_muthireddy/component-classification' target=\"_blank\">https://wandb.ai/vamsidhar_muthireddy/component-classification</a>"
      ],
      "text/plain": [
       "<IPython.core.display.HTML object>"
      ]
     },
     "metadata": {},
     "output_type": "display_data"
    },
    {
     "data": {
      "text/html": [
       " View run at <a href='https://wandb.ai/vamsidhar_muthireddy/component-classification/runs/rn5x7grd' target=\"_blank\">https://wandb.ai/vamsidhar_muthireddy/component-classification/runs/rn5x7grd</a>"
      ],
      "text/plain": [
       "<IPython.core.display.HTML object>"
      ]
     },
     "metadata": {},
     "output_type": "display_data"
    }
   ],
   "source": [
    "import wandb\n",
    "\n",
    "os.environ['WANDB_NOTEBOOK_NAME'] = notebook_name\n",
    "\n",
    "wandb.init(project=\"component-classification\",\n",
    "        config={\n",
    "            \"learning_rate\": None,\n",
    "            \"epochs\":  None,\n",
    "            \"batch_size\":  None,\n",
    "            \"val_split\":  None,\n",
    "            \"dropout\":  None,\n",
    "            \"image_width\":  None,\n",
    "            \"image_height\":  None,\n",
    "            \"random_seed\":  None,\n",
    "            \"session_key\":  None,\n",
    "            \"model_name\": \"ResNet50V2\",\n",
    "            \"train_accuracy\": None,\n",
    "            \"val_accuracy\": None,\n",
    "            \"test_accuracy\": None,\n",
    "            \"class_weight_strategy\": None,\n",
    "            \"fine_tuning\": None,\n",
    "            \"pad_input\": None,\n",
    "            \"pad_strategy\":None\n",
    "        })\n",
    "\n",
    "w_config = wandb.config\n",
    "\n"
   ]
  },
  {
   "cell_type": "markdown",
   "metadata": {},
   "source": [
    "<pre>\n",
    "w_config.learning_rate = #Learning rate <br/>\n",
    "w_config.epochs = Number of Epochs <br/>\n",
    "w_config.batch_size = Batch size <br/>\n",
    "w_config.val_split = Validation split <br/>\n",
    "w_config.dropout = Fropout in FC layers <br/>\n",
    "w_config.image_width = Image width for CNN <br/>\n",
    "w_config.image_height = Image height for CNN <br/>\n",
    "w_config.random_seed = Random seed <br/>\n",
    "w_config.session_key = Session key to save results(test folder name) <br/>\n",
    "w_config.model_name = Model Name <br/>\n",
    "\n",
    "w_config.train_accuracy = training set accuracy (Will be polulated after model training) <br/>\n",
    "w_config.val_accuracy = validation set accuracy (Will be polulated after model training) <br/>\n",
    "w_config.test_accuracy = test set accuracy (Will be polulated after model training) <br/>\n",
    "\n",
    "w_config.class_weight_strategy = #keys: None : No class weigts <br/>\n",
    "                                        \"Original\": Class weights are set according to original dataset <br/>\n",
    "                                \n",
    "w_config.fine_tuning = #keys: True: Fine-tunes the model by freezing ResNet head <br/>\n",
    "                              False: Model is trained in usual way <br/>\n",
    "                              \n",
    "w_config.pad_input = #keys: True : Resize the input by padding to target shape <br/>\n",
    "                          : False : Resize the input to target shape <br/>\n",
    "\n",
    "w_config.pad_strategy = #keys: 'pad_only' : if larger dimension < target shape: Pad the shorter and larger dimension to the target shape <br/>\n",
    "                                           :if larger dimension > target shape: resize by scale_and_pad strategy <br/>\n",
    "                             : 'scale_and_pad' : Pad the shorter dimension to match the larger dimenion before scaling to the target shape <br/>\n",
    "                             \n",
    "</pre>"
   ]
  },
  {
   "cell_type": "code",
   "execution_count": 10,
   "metadata": {
    "gradient": {
     "editing": false
    }
   },
   "outputs": [],
   "source": [
    "w_config.learning_rate = 0.001\n",
    "w_config.epochs = 30\n",
    "w_config.batch_size = 128\n",
    "w_config.val_split = 0.2\n",
    "w_config.dropout = 0.1\n",
    "w_config.image_width = 128\n",
    "w_config.image_height = 128\n",
    "w_config.random_seed = 42\n",
    "w_config.session_key = session_key\n",
    "w_config.model_name = \"ResNet50V2\"\n",
    "w_config.train_accuracy = 0\n",
    "w_config.val_accuracy = 0\n",
    "w_config.test_accuracy = 0\n",
    "w_config.class_weight_strategy = \"Augmented\"    #keys: None, \"Original\", \"Augmented\"\n",
    "w_config.fine_tuning = False                     #Fine-tunes the model if True\n",
    "w_config.pad_input = True\n",
    "w_config.pad_strategy = 'pad_only'      #keys: 'pad_only', 'scale_and_pad'"
   ]
  },
  {
   "cell_type": "markdown",
   "metadata": {
    "gradient": {
     "editing": false
    }
   },
   "source": [
    "Organizing data for model training and inferencing\n",
    "\n",
    "\n",
    "\n",
    "Model training will happen on images from train_folder <br>\n",
    "train_folder = Training set (Will be split into train and validation to be used for model training)\n",
    "\n",
    "Model inferencing will happen on images from test_folder <br>\n",
    "test_folder = Test set (Will be used to evaluate the trained model for <b>inference</b>)\n",
    "\n"
   ]
  },
  {
   "cell_type": "code",
   "execution_count": 11,
   "metadata": {
    "gradient": {
     "editing": false
    }
   },
   "outputs": [
    {
     "name": "stdout",
     "output_type": "stream",
     "text": [
      "/home/vamsidhar/Documents/purecode/solution_1/test_2023-04-01-19-32-46\n"
     ]
    }
   ],
   "source": [
    "\n",
    "shuffle_dataset = True\n",
    "\n",
    "\n",
    "\n",
    "save_folder = '/home/vamsidhar/Documents/purecode/solution_1/test_' + str(w_config.session_key)\n",
    "print(save_folder)\n",
    "os.makedirs(save_folder, exist_ok=True)\n",
    "\n",
    "model_save_path = os.path.join(save_folder, \"model_weights.h5\")\n",
    "architecture_save_path = os.path.join(save_folder, \"model_architecture.txt\")\n",
    "\n",
    "\n",
    "np.random.seed(w_config.random_seed)\n",
    "tf.random.set_seed(w_config.random_seed)\n",
    "random.seed(w_config.random_seed)\n",
    "\n",
    "\n",
    "train_folder = '/home/vamsidhar/Documents/purecode/data_3/train/images'\n",
    "test_folder = '/home/vamsidhar/Documents/purecode/data_3/test/images'\n",
    "\n",
    "\n"
   ]
  },
  {
   "cell_type": "code",
   "execution_count": null,
   "metadata": {
    "gradient": {
     "editing": false
    }
   },
   "outputs": [],
   "source": []
  },
  {
   "cell_type": "code",
   "execution_count": 14,
   "metadata": {
    "gradient": {
     "editing": false
    }
   },
   "outputs": [],
   "source": [
    "\n",
    "\n",
    "def get_weights(classes , folder):\n",
    "    each_class_samples = []\n",
    "    for i in classes : \n",
    "        each_class_samples.append(len(os.listdir(os.path.join(folder,i))))\n",
    "    maximum = max(each_class_samples)\n",
    "    weight_list = []\n",
    "    for i in each_class_samples:\n",
    "        weight_list.append(maximum/i)\n",
    "    weights = {}\n",
    "    for i in range(len(weight_list)) :\n",
    "        weights[i] =  weight_list[i]  \n",
    "    return weights\n",
    "\n"
   ]
  },
  {
   "cell_type": "code",
   "execution_count": 15,
   "metadata": {
    "gradient": {
     "editing": false
    }
   },
   "outputs": [
    {
     "name": "stdout",
     "output_type": "stream",
     "text": [
      "['Switch', 'Checkbox', 'Card', 'Icon', 'Button']\n",
      "{0: 14.143730886850152, 1: 3.630298273155416, 2: 2.132319041032734, 3: 1.0, 4: 1.7439668174962293}\n"
     ]
    }
   ],
   "source": [
    "classes_train = os.listdir(train_folder)\n",
    "classes_test   = os.listdir(test_folder)\n",
    "\n",
    "print(classes_train)\n",
    "num_classes = len(classes_train)\n",
    "\n",
    "class_weights = get_weights(classes_train , train_folder)\n",
    "    \n",
    "print(class_weights)\n",
    "\n"
   ]
  },
  {
   "cell_type": "code",
   "execution_count": null,
   "metadata": {
    "gradient": {
     "editing": false
    }
   },
   "outputs": [],
   "source": []
  },
  {
   "cell_type": "code",
   "execution_count": 16,
   "metadata": {
    "gradient": {
     "editing": false
    }
   },
   "outputs": [],
   "source": [
    "def label_encoding (label , path):\n",
    "    C = tf.constant(len(os.listdir(path)), name = \"C\")\n",
    "\n",
    "    one_hot_matrix = tf.one_hot(label, C, on_value = 1.0, off_value = 0.0, axis =-1)\n",
    "    one_hot = tf.cast(one_hot_matrix, dtype=tf.int64)\n",
    "    \n",
    "    return one_hot"
   ]
  },
  {
   "cell_type": "code",
   "execution_count": 17,
   "metadata": {
    "gradient": {}
   },
   "outputs": [],
   "source": [
    "def iterator(path ):\n",
    "    label = []\n",
    "    file_name = []\n",
    "    folder_lis = os.listdir(path)\n",
    "    for i in range(len(folder_lis)) :\n",
    "        img_lis = os.listdir(os.path.join(path,folder_lis[i]))\n",
    "        for j in img_lis :\n",
    "            label.append(i)\n",
    "            file_name.append(os.path.join(path,folder_lis[i],j))  \n",
    "    label_1 = label_encoding (label , path)\n",
    "    \n",
    "    return label_1, file_name "
   ]
  },
  {
   "cell_type": "code",
   "execution_count": 18,
   "metadata": {
    "gradient": {}
   },
   "outputs": [],
   "source": [
    "def run_time_augmentation(image):\n",
    "    image = tf.image.random_flip_left_right(image)\n",
    "    image = tf.image.random_flip_up_down(image)\n",
    "\n",
    "    image = tf.image.random_brightness(image, max_delta=12.0 / 255.0)\n",
    "    image = tf.image.random_saturation(image, lower=0.8, upper=1.2)\n",
    "    image = tf.clip_by_value(image, 0.0, 1.0)\n",
    "\n",
    "    return image"
   ]
  },
  {
   "cell_type": "code",
   "execution_count": 19,
   "metadata": {
    "gradient": {}
   },
   "outputs": [],
   "source": [
    "def parse_function(filename, label, aug, input_dim = [w_config.image_height, w_config.image_width] ):\n",
    "    image_string = tf.io.read_file(filename)\n",
    "    img = tf.image.decode_png(image_string, channels=3)\n",
    "    img = tf.cast(img , tf.float32)\n",
    "    if w_config.pad_input:\n",
    "        if w_config.pad_strategy == 'pad_only':\n",
    "            x_offset = int((input_dim[1] - tf.shape(img)[1])/2)\n",
    "            y_offset = int((input_dim[0] - tf.shape(img)[0])/2)\n",
    "\n",
    "            offset_positive = tf.greater(x_offset, 0) and tf.greater(y_offset, 0)\n",
    "\n",
    "            # print(input_dim[1], tf.shape(img), offset_positive, x_offset, y_offset)\n",
    "            img = tf.cond(\n",
    "                    offset_positive,\n",
    "                    false_fn = lambda:tf.image.resize_with_pad(img, input_dim[0], input_dim[1]),  \n",
    "                    true_fn = lambda:tf.image.pad_to_bounding_box( img, offset_height=y_offset,\n",
    "                                                                    offset_width=x_offset,\n",
    "                                                                    target_height=input_dim[0],\n",
    "                                                                    target_width=input_dim[1] ),                                \n",
    "                    name = None\n",
    "                    )\n",
    "            \n",
    "        else:\n",
    "            img =  tf.image.resize_with_pad(img, input_dim[0], input_dim[1])\n",
    "            \n",
    "    else:\n",
    "        img  = tf.image.resize(img, input_dim)\n",
    "        \n",
    "    image_raw = tf.cast(img , tf.float32) * (1. / 255)\n",
    "\n",
    "    if aug:\n",
    "        image_raw = run_time_augmentation(image_raw)\n",
    "    return image_raw, label\n",
    "\n"
   ]
  },
  {
   "cell_type": "code",
   "execution_count": 20,
   "metadata": {
    "gradient": {}
   },
   "outputs": [],
   "source": [
    "def give_generator_v2(file_names, labels, shuffle=True, batch_size=256, repeat=True,buffer_size=512,\n",
    "                       prefetch=True, autotune=False, parallel_calls=2*os.cpu_count()-2, aug=False):\n",
    "    \n",
    "    aug_list = [aug]*len(labels)\n",
    "    dataset = tf.data.Dataset.from_tensor_slices((file_names, labels, aug_list))\n",
    "    \n",
    "    \n",
    "    if repeat:\n",
    "        dataset = dataset.repeat()\n",
    "    if shuffle:\n",
    "        dataset = dataset.shuffle(buffer_size=len(file_names))\n",
    "    \n",
    "    if autotune:\n",
    "        dataset = dataset.map(parse_function, num_parallel_calls=tf.data.experimental.AUTOTUNE)\n",
    "    else:\n",
    "        dataset = dataset.map(parse_function, num_parallel_calls=parallel_calls)\n",
    "\n",
    "        \n",
    "    dataset = dataset.batch(batch_size)\n",
    "    \n",
    "    if prefetch:\n",
    "        if autotune:\n",
    "            dataset = dataset.prefetch(tf.data.experimental.AUTOTUNE)\n",
    "        else:\n",
    "            dataset = dataset.prefetch(parallel_calls)\n",
    "            \n",
    "\n",
    "    data_gen = iter(dataset)\n",
    "    \n",
    "    return data_gen, dataset"
   ]
  },
  {
   "cell_type": "code",
   "execution_count": 21,
   "metadata": {
    "gradient": {}
   },
   "outputs": [],
   "source": [
    "def generate_filenames_label(path, shuffle=True, split=False, split_ratio=w_config.val_split):\n",
    "    label, file_name  = iterator(path)\n",
    "    \n",
    "    if split:\n",
    "\n",
    "        dataset_size = len(file_name)\n",
    "        indices = list(range(dataset_size))\n",
    "        total_split = int(np.floor((split_ratio) * dataset_size))\n",
    "        if shuffle :\n",
    "            np.random.shuffle(indices)\n",
    "        train_indices, val_indices = indices[total_split:], indices[:total_split]\n",
    "        \n",
    "        train_label = np.take(label, train_indices, axis=0)\n",
    "        train_file_name = np.take(file_name, train_indices, axis=0)\n",
    "        \n",
    "        val_label = np.take(label, val_indices, axis=0)\n",
    "        val_file_name = np.take(file_name, val_indices, axis=0)\n",
    "        \n",
    "        \n",
    "        return train_label, train_file_name, val_label, val_file_name\n",
    "    \n",
    "    return label, file_name\n",
    "\n",
    "\n",
    "    \n",
    "    "
   ]
  },
  {
   "cell_type": "code",
   "execution_count": 22,
   "metadata": {
    "gradient": {}
   },
   "outputs": [
    {
     "name": "stderr",
     "output_type": "stream",
     "text": [
      "2023-04-02 01:02:52.854594: I tensorflow/compiler/xla/stream_executor/cuda/cuda_gpu_executor.cc:996] successful NUMA node read from SysFS had negative value (-1), but there must be at least one NUMA node, so returning NUMA node zero. See more at https://github.com/torvalds/linux/blob/v6.0/Documentation/ABI/testing/sysfs-bus-pci#L344-L355\n",
      "2023-04-02 01:02:52.854821: I tensorflow/compiler/xla/stream_executor/cuda/cuda_gpu_executor.cc:996] successful NUMA node read from SysFS had negative value (-1), but there must be at least one NUMA node, so returning NUMA node zero. See more at https://github.com/torvalds/linux/blob/v6.0/Documentation/ABI/testing/sysfs-bus-pci#L344-L355\n",
      "2023-04-02 01:02:52.854979: I tensorflow/compiler/xla/stream_executor/cuda/cuda_gpu_executor.cc:996] successful NUMA node read from SysFS had negative value (-1), but there must be at least one NUMA node, so returning NUMA node zero. See more at https://github.com/torvalds/linux/blob/v6.0/Documentation/ABI/testing/sysfs-bus-pci#L344-L355\n",
      "2023-04-02 01:02:52.855286: I tensorflow/compiler/xla/stream_executor/cuda/cuda_gpu_executor.cc:996] successful NUMA node read from SysFS had negative value (-1), but there must be at least one NUMA node, so returning NUMA node zero. See more at https://github.com/torvalds/linux/blob/v6.0/Documentation/ABI/testing/sysfs-bus-pci#L344-L355\n",
      "2023-04-02 01:02:52.855457: I tensorflow/compiler/xla/stream_executor/cuda/cuda_gpu_executor.cc:996] successful NUMA node read from SysFS had negative value (-1), but there must be at least one NUMA node, so returning NUMA node zero. See more at https://github.com/torvalds/linux/blob/v6.0/Documentation/ABI/testing/sysfs-bus-pci#L344-L355\n",
      "2023-04-02 01:02:52.855608: I tensorflow/compiler/xla/stream_executor/cuda/cuda_gpu_executor.cc:996] successful NUMA node read from SysFS had negative value (-1), but there must be at least one NUMA node, so returning NUMA node zero. See more at https://github.com/torvalds/linux/blob/v6.0/Documentation/ABI/testing/sysfs-bus-pci#L344-L355\n",
      "2023-04-02 01:02:52.855806: I tensorflow/compiler/xla/stream_executor/cuda/cuda_gpu_executor.cc:996] successful NUMA node read from SysFS had negative value (-1), but there must be at least one NUMA node, so returning NUMA node zero. See more at https://github.com/torvalds/linux/blob/v6.0/Documentation/ABI/testing/sysfs-bus-pci#L344-L355\n",
      "2023-04-02 01:02:52.855960: I tensorflow/compiler/xla/stream_executor/cuda/cuda_gpu_executor.cc:996] successful NUMA node read from SysFS had negative value (-1), but there must be at least one NUMA node, so returning NUMA node zero. See more at https://github.com/torvalds/linux/blob/v6.0/Documentation/ABI/testing/sysfs-bus-pci#L344-L355\n",
      "2023-04-02 01:02:52.856086: I tensorflow/core/common_runtime/gpu/gpu_device.cc:1635] Created device /job:localhost/replica:0/task:0/device:GPU:0 with 4600 MB memory:  -> device: 0, name: NVIDIA GeForce GTX 1660 Ti, pci bus id: 0000:01:00.0, compute capability: 7.5\n"
     ]
    }
   ],
   "source": [
    "train_label, train_file_name, val_label, val_file_name = generate_filenames_label(train_folder,\n",
    "                                                                                  shuffle=True,\n",
    "                                                                                  split=True,\n",
    "                                                                                  split_ratio=w_config.val_split)\n",
    "\n"
   ]
  },
  {
   "cell_type": "code",
   "execution_count": 23,
   "metadata": {
    "gradient": {}
   },
   "outputs": [],
   "source": [
    "test_label, test_file_name  = generate_filenames_label(test_folder, shuffle=False, split=False)\n",
    "\n"
   ]
  },
  {
   "cell_type": "markdown",
   "metadata": {},
   "source": [
    "Defining train, validation, and test generators.\n",
    "\n",
    "Flags:\n",
    "\n",
    "shuffle: True by default.\n",
    "Train and validation data will be shuffled during each epoch. Test data will be fed with no shuffling\n",
    "\n",
    "\n",
    "aug: False by default.\n",
    "Run time augmenations will be performed only on Training part of the data. Validation and Test sets will have no run time augmentations. We preprocess the images by resizing and normalization\n"
   ]
  },
  {
   "cell_type": "code",
   "execution_count": 24,
   "metadata": {
    "gradient": {}
   },
   "outputs": [
    {
     "name": "stderr",
     "output_type": "stream",
     "text": [
      "2023-04-02 01:02:53.375170: I tensorflow/core/common_runtime/executor.cc:1197] [/device:CPU:0] (DEBUG INFO) Executor start aborting (this does not indicate an error and you can ignore this message): INVALID_ARGUMENT: You must feed a value for placeholder tensor 'Placeholder/_0' with dtype string and shape [8838]\n",
      "\t [[{{node Placeholder/_0}}]]\n",
      "2023-04-02 01:02:53.375573: I tensorflow/core/common_runtime/executor.cc:1197] [/device:CPU:0] (DEBUG INFO) Executor start aborting (this does not indicate an error and you can ignore this message): INVALID_ARGUMENT: You must feed a value for placeholder tensor 'Placeholder/_1' with dtype int64 and shape [8838,5]\n",
      "\t [[{{node Placeholder/_1}}]]\n",
      "2023-04-02 01:02:53.612529: I tensorflow/core/common_runtime/executor.cc:1197] [/device:CPU:0] (DEBUG INFO) Executor start aborting (this does not indicate an error and you can ignore this message): INVALID_ARGUMENT: You must feed a value for placeholder tensor 'Placeholder/_2' with dtype bool and shape [2209]\n",
      "\t [[{{node Placeholder/_2}}]]\n",
      "2023-04-02 01:02:53.612922: I tensorflow/core/common_runtime/executor.cc:1197] [/device:CPU:0] (DEBUG INFO) Executor start aborting (this does not indicate an error and you can ignore this message): INVALID_ARGUMENT: You must feed a value for placeholder tensor 'Placeholder/_1' with dtype int64 and shape [2209,5]\n",
      "\t [[{{node Placeholder/_1}}]]\n",
      "2023-04-02 01:02:53.868083: I tensorflow/core/common_runtime/executor.cc:1197] [/device:CPU:0] (DEBUG INFO) Executor start aborting (this does not indicate an error and you can ignore this message): INVALID_ARGUMENT: You must feed a value for placeholder tensor 'Placeholder/_0' with dtype string and shape [2762]\n",
      "\t [[{{node Placeholder/_0}}]]\n",
      "2023-04-02 01:02:53.868313: I tensorflow/core/common_runtime/executor.cc:1197] [/device:CPU:0] (DEBUG INFO) Executor start aborting (this does not indicate an error and you can ignore this message): INVALID_ARGUMENT: You must feed a value for placeholder tensor 'Placeholder/_2' with dtype bool and shape [2762]\n",
      "\t [[{{node Placeholder/_2}}]]\n"
     ]
    }
   ],
   "source": [
    "train_data_gen, train_dataset_tf = give_generator_v2(file_names=train_file_name, labels=train_label, shuffle=True, \n",
    "                                   batch_size=w_config.batch_size, repeat=True, buffer_size=512, prefetch=True, aug=True)\n",
    "\n",
    "val_data_gen, val_dataset_tf = give_generator_v2(file_names=val_file_name, labels=val_label, shuffle=True, \n",
    "                                 batch_size=w_config.batch_size, repeat=True, buffer_size=512, prefetch=True)\n",
    "\n",
    "test_data_gen, test_dataset_tf = give_generator_v2(file_names=test_file_name, labels=test_label, shuffle=False,\n",
    "                                  batch_size=w_config.batch_size, repeat=True, buffer_size=512, prefetch=True)"
   ]
  },
  {
   "cell_type": "code",
   "execution_count": 25,
   "metadata": {
    "gradient": {}
   },
   "outputs": [],
   "source": [
    "\n",
    "\n",
    "def model_resnet50(classes = num_classes, fine_tuning=False, fine_tuning_layer=None, fine_tuning_model=None):\n",
    "\n",
    "    if fine_tuning is True and fine_tuning_layer is not None and fine_tuning_model is not None:\n",
    "        input1 = fine_tuning_model.input\n",
    "        base_model = Model(input1,\n",
    "                           fine_tuning_model.layers[fine_tuning_layer - len(fine_tuning_model.layers)].output)\n",
    "        for i in range(len(base_model.layers)):\n",
    "            base_model.layers[i].trainable = False\n",
    "    else:\n",
    "        input1 = Input(shape=(w_config.image_width, w_config.image_height,3))\n",
    "        base_model = ResNet50V2(include_top=False, weights='imagenet', input_tensor=input1,\n",
    "                                input_shape=(w_config.image_width, w_config.image_height,3),\n",
    "                                    pooling='max')\n",
    "    x = base_model.output\n",
    "    x = Dense(classes, activation='softmax')(x)\n",
    "    model = Model(inputs=input1, outputs=x)\n",
    "#     model.name = 'resnet50v2'\n",
    "    return model"
   ]
  },
  {
   "cell_type": "markdown",
   "metadata": {},
   "source": [
    "Defining the model"
   ]
  },
  {
   "cell_type": "code",
   "execution_count": 26,
   "metadata": {
    "gradient": {}
   },
   "outputs": [],
   "source": [
    "\n",
    "\n",
    "reduce_lr = ReduceLROnPlateau(monitor='val_loss', factor=0.5,patience=15, verbose =2 )\n",
    "\n",
    "\n",
    "checkpoint = ModelCheckpoint(model_save_path, save_weights_only= True, monitor='val_loss', verbose=2,\n",
    "                            save_best_only=True, mode='auto', save_freq='epoch')\n"
   ]
  },
  {
   "cell_type": "markdown",
   "metadata": {},
   "source": [
    "Intiliazing the model. \n",
    "\n",
    "If  `w_config.fine_tuning` is set as `True`, fine-tuning is selected, \n",
    "1. Model weight are initialized from weight file at `base_model_path`\n",
    "2. Layers of Resnet are set as non-trainable.\n",
    "3. Only FC layers added are trainable"
   ]
  },
  {
   "cell_type": "code",
   "execution_count": 27,
   "metadata": {
    "gradient": {}
   },
   "outputs": [
    {
     "name": "stderr",
     "output_type": "stream",
     "text": [
      "WARNING:absl:`lr` is deprecated in Keras optimizer, please use `learning_rate` or use the legacy optimizer, e.g.,tf.keras.optimizers.legacy.Adam.\n"
     ]
    }
   ],
   "source": [
    "\n",
    "\n",
    "\n",
    "\n",
    "model = model_resnet50(classes=num_classes)\n",
    "\n",
    "# model.compile(loss='categorical_crossentropy', optimizer=Adam(lr=w_config.learning_rate), metrics=['accuracy'])\n",
    "\n",
    "if w_config.fine_tuning:\n",
    "    if os.path.isfile(base_model_path):\n",
    "        cnn_arch_str = open(base_model_architecture_path, 'r+')\n",
    "        model = model_from_json((cnn_arch_str.read()))\n",
    "        model.load_weights(base_model_path)\n",
    "        pooling_layer_index = 0\n",
    "        for i in range(len(model.layers)):\n",
    "            if model.layers[i].name == 'max_pool':\n",
    "                pooling_layer_index = i\n",
    "        \n",
    "        model = model_resnet50(classes=num_classes, fine_tuning=True, fine_tuning_layer=pooling_layer_index, fine_tuning_model=model)\n",
    "\n",
    "model.compile(loss='categorical_crossentropy', optimizer=Adam(lr=w_config.learning_rate), metrics=['accuracy'])\n",
    "\n"
   ]
  },
  {
   "cell_type": "markdown",
   "metadata": {},
   "source": [
    "Model training"
   ]
  },
  {
   "cell_type": "code",
   "execution_count": 28,
   "metadata": {
    "gradient": {}
   },
   "outputs": [
    {
     "name": "stderr",
     "output_type": "stream",
     "text": [
      "\u001b[34m\u001b[1mwandb\u001b[0m: \u001b[33mWARNING\u001b[0m The save_model argument by default saves the model in the HDF5 format that cannot save custom objects like subclassed models and custom layers. This behavior will be deprecated in a future release in favor of the SavedModel format. Meanwhile, the HDF5 model is saved as W&B files and the SavedModel as W&B Artifacts.\n"
     ]
    },
    {
     "name": "stdout",
     "output_type": "stream",
     "text": [
      "Epoch 1/30\n"
     ]
    },
    {
     "name": "stderr",
     "output_type": "stream",
     "text": [
      "2023-04-02 01:02:55.539567: I tensorflow/core/common_runtime/executor.cc:1197] [/device:CPU:0] (DEBUG INFO) Executor start aborting (this does not indicate an error and you can ignore this message): INVALID_ARGUMENT: You must feed a value for placeholder tensor 'Placeholder/_2' with dtype bool and shape [8838]\n",
      "\t [[{{node Placeholder/_2}}]]\n",
      "2023-04-02 01:02:55.539860: I tensorflow/core/common_runtime/executor.cc:1197] [/device:CPU:0] (DEBUG INFO) Executor start aborting (this does not indicate an error and you can ignore this message): INVALID_ARGUMENT: You must feed a value for placeholder tensor 'Placeholder/_1' with dtype int64 and shape [8838,5]\n",
      "\t [[{{node Placeholder/_1}}]]\n",
      "2023-04-02 01:03:05.010917: I tensorflow/compiler/xla/stream_executor/cuda/cuda_dnn.cc:424] Loaded cuDNN version 8600\n",
      "2023-04-02 01:03:06.195512: I tensorflow/tsl/platform/default/subprocess.cc:304] Start cannot spawn child process: No such file or directory\n",
      "2023-04-02 01:03:07.784993: W tensorflow/tsl/framework/bfc_allocator.cc:296] Allocator (GPU_0_bfc) ran out of memory trying to allocate 4.80GiB with freed_by_count=0. The caller indicates that this is not a failure, but this may mean that there could be performance gains if more memory were available.\n",
      "2023-04-02 01:03:07.901533: W tensorflow/tsl/framework/bfc_allocator.cc:296] Allocator (GPU_0_bfc) ran out of memory trying to allocate 1.61GiB with freed_by_count=0. The caller indicates that this is not a failure, but this may mean that there could be performance gains if more memory were available.\n",
      "2023-04-02 01:03:07.966435: W tensorflow/tsl/framework/bfc_allocator.cc:296] Allocator (GPU_0_bfc) ran out of memory trying to allocate 2.41GiB with freed_by_count=0. The caller indicates that this is not a failure, but this may mean that there could be performance gains if more memory were available.\n",
      "2023-04-02 01:03:08.013903: W tensorflow/tsl/framework/bfc_allocator.cc:296] Allocator (GPU_0_bfc) ran out of memory trying to allocate 2.83GiB with freed_by_count=0. The caller indicates that this is not a failure, but this may mean that there could be performance gains if more memory were available.\n",
      "2023-04-02 01:03:08.035314: I tensorflow/compiler/xla/service/service.cc:169] XLA service 0x215baff0 initialized for platform CUDA (this does not guarantee that XLA will be used). Devices:\n",
      "2023-04-02 01:03:08.035366: I tensorflow/compiler/xla/service/service.cc:177]   StreamExecutor device (0): NVIDIA GeForce GTX 1660 Ti, Compute Capability 7.5\n",
      "2023-04-02 01:03:08.070685: I tensorflow/compiler/mlir/tensorflow/utils/dump_mlir_util.cc:269] disabling MLIR crash reproducer, set env var `MLIR_CRASH_REPRODUCER_DIRECTORY` to enable.\n",
      "2023-04-02 01:03:08.283454: I tensorflow/tsl/platform/default/subprocess.cc:304] Start cannot spawn child process: No such file or directory\n",
      "2023-04-02 01:03:08.346667: I ./tensorflow/compiler/jit/device_compiler.h:180] Compiled cluster using XLA!  This line is logged at most once for the lifetime of the process.\n",
      "2023-04-02 01:03:08.738278: W tensorflow/tsl/framework/bfc_allocator.cc:296] Allocator (GPU_0_bfc) ran out of memory trying to allocate 2.83GiB with freed_by_count=0. The caller indicates that this is not a failure, but this may mean that there could be performance gains if more memory were available.\n",
      "2023-04-02 01:03:08.738323: W tensorflow/tsl/framework/bfc_allocator.cc:296] Allocator (GPU_0_bfc) ran out of memory trying to allocate 2.83GiB with freed_by_count=0. The caller indicates that this is not a failure, but this may mean that there could be performance gains if more memory were available.\n",
      "2023-04-02 01:03:08.949518: W tensorflow/tsl/framework/bfc_allocator.cc:296] Allocator (GPU_0_bfc) ran out of memory trying to allocate 2.28GiB with freed_by_count=0. The caller indicates that this is not a failure, but this may mean that there could be performance gains if more memory were available.\n",
      "2023-04-02 01:03:08.949574: W tensorflow/tsl/framework/bfc_allocator.cc:296] Allocator (GPU_0_bfc) ran out of memory trying to allocate 2.28GiB with freed_by_count=0. The caller indicates that this is not a failure, but this may mean that there could be performance gains if more memory were available.\n",
      "2023-04-02 01:03:09.224004: W tensorflow/tsl/framework/bfc_allocator.cc:296] Allocator (GPU_0_bfc) ran out of memory trying to allocate 1.61GiB with freed_by_count=0. The caller indicates that this is not a failure, but this may mean that there could be performance gains if more memory were available.\n",
      "2023-04-02 01:03:09.224058: W tensorflow/tsl/framework/bfc_allocator.cc:296] Allocator (GPU_0_bfc) ran out of memory trying to allocate 1.61GiB with freed_by_count=0. The caller indicates that this is not a failure, but this may mean that there could be performance gains if more memory were available.\n"
     ]
    },
    {
     "name": "stdout",
     "output_type": "stream",
     "text": [
      " 6/69 [=>............................] - ETA: 21s - loss: 7.5869 - accuracy: 0.6094WARNING:tensorflow:Callback method `on_train_batch_end` is slow compared to the batch time (batch time: 0.1571s vs `on_train_batch_end` time: 0.1607s). Check your callbacks.\n"
     ]
    },
    {
     "name": "stderr",
     "output_type": "stream",
     "text": [
      "WARNING:tensorflow:Callback method `on_train_batch_end` is slow compared to the batch time (batch time: 0.1571s vs `on_train_batch_end` time: 0.1607s). Check your callbacks.\n"
     ]
    },
    {
     "name": "stdout",
     "output_type": "stream",
     "text": [
      "69/69 [==============================] - ETA: 0s - loss: 1.1052 - accuracy: 0.8998\n",
      "Epoch 1: val_loss improved from inf to 362.64294, saving model to /home/vamsidhar/Documents/purecode/solution_1/test_2023-04-01-19-32-46/model_weights.h5\n"
     ]
    },
    {
     "name": "stderr",
     "output_type": "stream",
     "text": [
      "WARNING:absl:Found untraced functions such as _jit_compiled_convolution_op, _jit_compiled_convolution_op, _jit_compiled_convolution_op, _jit_compiled_convolution_op, _jit_compiled_convolution_op while saving (showing 5 of 53). These functions will not be directly callable after loading.\n"
     ]
    },
    {
     "name": "stdout",
     "output_type": "stream",
     "text": [
      "INFO:tensorflow:Assets written to: /home/vamsidhar/Documents/purecode/solution_1/wandb/run-20230402_010248-rn5x7grd/files/model-best/assets\n"
     ]
    },
    {
     "name": "stderr",
     "output_type": "stream",
     "text": [
      "INFO:tensorflow:Assets written to: /home/vamsidhar/Documents/purecode/solution_1/wandb/run-20230402_010248-rn5x7grd/files/model-best/assets\n",
      "\u001b[34m\u001b[1mwandb\u001b[0m: Adding directory to artifact (/home/vamsidhar/Documents/purecode/solution_1/wandb/run-20230402_010248-rn5x7grd/files/model-best)... Done. 0.7s\n"
     ]
    },
    {
     "name": "stdout",
     "output_type": "stream",
     "text": [
      "69/69 [==============================] - 76s 685ms/step - loss: 1.1052 - accuracy: 0.8998 - val_loss: 362.6429 - val_accuracy: 0.3263 - lr: 0.0010\n",
      "Epoch 2/30\n",
      "69/69 [==============================] - ETA: 0s - loss: 0.1731 - accuracy: 0.9690\n",
      "Epoch 2: val_loss improved from 362.64294 to 0.62219, saving model to /home/vamsidhar/Documents/purecode/solution_1/test_2023-04-01-19-32-46/model_weights.h5\n"
     ]
    },
    {
     "name": "stderr",
     "output_type": "stream",
     "text": [
      "WARNING:absl:Found untraced functions such as _jit_compiled_convolution_op, _jit_compiled_convolution_op, _jit_compiled_convolution_op, _jit_compiled_convolution_op, _jit_compiled_convolution_op while saving (showing 5 of 53). These functions will not be directly callable after loading.\n"
     ]
    },
    {
     "name": "stdout",
     "output_type": "stream",
     "text": [
      "INFO:tensorflow:Assets written to: /home/vamsidhar/Documents/purecode/solution_1/wandb/run-20230402_010248-rn5x7grd/files/model-best/assets\n"
     ]
    },
    {
     "name": "stderr",
     "output_type": "stream",
     "text": [
      "INFO:tensorflow:Assets written to: /home/vamsidhar/Documents/purecode/solution_1/wandb/run-20230402_010248-rn5x7grd/files/model-best/assets\n",
      "\u001b[34m\u001b[1mwandb\u001b[0m: Adding directory to artifact (/home/vamsidhar/Documents/purecode/solution_1/wandb/run-20230402_010248-rn5x7grd/files/model-best)... Done. 0.7s\n"
     ]
    },
    {
     "name": "stdout",
     "output_type": "stream",
     "text": [
      "69/69 [==============================] - 45s 650ms/step - loss: 0.1731 - accuracy: 0.9690 - val_loss: 0.6222 - val_accuracy: 0.9605 - lr: 0.0010\n",
      "Epoch 3/30\n",
      "69/69 [==============================] - ETA: 0s - loss: 0.1141 - accuracy: 0.9800\n",
      "Epoch 3: val_loss improved from 0.62219 to 0.05454, saving model to /home/vamsidhar/Documents/purecode/solution_1/test_2023-04-01-19-32-46/model_weights.h5\n"
     ]
    },
    {
     "name": "stderr",
     "output_type": "stream",
     "text": [
      "WARNING:absl:Found untraced functions such as _jit_compiled_convolution_op, _jit_compiled_convolution_op, _jit_compiled_convolution_op, _jit_compiled_convolution_op, _jit_compiled_convolution_op while saving (showing 5 of 53). These functions will not be directly callable after loading.\n"
     ]
    },
    {
     "name": "stdout",
     "output_type": "stream",
     "text": [
      "INFO:tensorflow:Assets written to: /home/vamsidhar/Documents/purecode/solution_1/wandb/run-20230402_010248-rn5x7grd/files/model-best/assets\n"
     ]
    },
    {
     "name": "stderr",
     "output_type": "stream",
     "text": [
      "INFO:tensorflow:Assets written to: /home/vamsidhar/Documents/purecode/solution_1/wandb/run-20230402_010248-rn5x7grd/files/model-best/assets\n",
      "\u001b[34m\u001b[1mwandb\u001b[0m: Adding directory to artifact (/home/vamsidhar/Documents/purecode/solution_1/wandb/run-20230402_010248-rn5x7grd/files/model-best)... Done. 0.8s\n"
     ]
    },
    {
     "name": "stdout",
     "output_type": "stream",
     "text": [
      "69/69 [==============================] - 49s 714ms/step - loss: 0.1141 - accuracy: 0.9800 - val_loss: 0.0545 - val_accuracy: 0.9816 - lr: 0.0010\n",
      "Epoch 4/30\n",
      "69/69 [==============================] - ETA: 0s - loss: 0.0829 - accuracy: 0.9852\n",
      "Epoch 4: val_loss improved from 0.05454 to 0.04019, saving model to /home/vamsidhar/Documents/purecode/solution_1/test_2023-04-01-19-32-46/model_weights.h5\n"
     ]
    },
    {
     "name": "stderr",
     "output_type": "stream",
     "text": [
      "WARNING:absl:Found untraced functions such as _jit_compiled_convolution_op, _jit_compiled_convolution_op, _jit_compiled_convolution_op, _jit_compiled_convolution_op, _jit_compiled_convolution_op while saving (showing 5 of 53). These functions will not be directly callable after loading.\n"
     ]
    },
    {
     "name": "stdout",
     "output_type": "stream",
     "text": [
      "INFO:tensorflow:Assets written to: /home/vamsidhar/Documents/purecode/solution_1/wandb/run-20230402_010248-rn5x7grd/files/model-best/assets\n"
     ]
    },
    {
     "name": "stderr",
     "output_type": "stream",
     "text": [
      "INFO:tensorflow:Assets written to: /home/vamsidhar/Documents/purecode/solution_1/wandb/run-20230402_010248-rn5x7grd/files/model-best/assets\n",
      "\u001b[34m\u001b[1mwandb\u001b[0m: Adding directory to artifact (/home/vamsidhar/Documents/purecode/solution_1/wandb/run-20230402_010248-rn5x7grd/files/model-best)... Done. 0.8s\n"
     ]
    },
    {
     "name": "stdout",
     "output_type": "stream",
     "text": [
      "69/69 [==============================] - 50s 724ms/step - loss: 0.0829 - accuracy: 0.9852 - val_loss: 0.0402 - val_accuracy: 0.9867 - lr: 0.0010\n",
      "Epoch 5/30\n",
      "69/69 [==============================] - ETA: 0s - loss: 0.0684 - accuracy: 0.9877\n",
      "Epoch 5: val_loss did not improve from 0.04019\n",
      "69/69 [==============================] - 29s 416ms/step - loss: 0.0684 - accuracy: 0.9877 - val_loss: 0.0501 - val_accuracy: 0.9858 - lr: 0.0010\n",
      "Epoch 6/30\n",
      "69/69 [==============================] - ETA: 0s - loss: 0.0696 - accuracy: 0.9894\n",
      "Epoch 6: val_loss did not improve from 0.04019\n",
      "69/69 [==============================] - 31s 455ms/step - loss: 0.0696 - accuracy: 0.9894 - val_loss: 0.0576 - val_accuracy: 0.9858 - lr: 0.0010\n",
      "Epoch 7/30\n",
      "69/69 [==============================] - ETA: 0s - loss: 0.1049 - accuracy: 0.9813\n",
      "Epoch 7: val_loss did not improve from 0.04019\n",
      "69/69 [==============================] - 33s 475ms/step - loss: 0.1049 - accuracy: 0.9813 - val_loss: 0.2310 - val_accuracy: 0.9334 - lr: 0.0010\n",
      "Epoch 8/30\n",
      "69/69 [==============================] - ETA: 0s - loss: 0.0610 - accuracy: 0.9883\n",
      "Epoch 8: val_loss did not improve from 0.04019\n",
      "69/69 [==============================] - 34s 493ms/step - loss: 0.0610 - accuracy: 0.9883 - val_loss: 0.0411 - val_accuracy: 0.9913 - lr: 0.0010\n",
      "Epoch 9/30\n",
      "69/69 [==============================] - ETA: 0s - loss: 0.0505 - accuracy: 0.9917\n",
      "Epoch 9: val_loss did not improve from 0.04019\n",
      "69/69 [==============================] - 35s 504ms/step - loss: 0.0505 - accuracy: 0.9917 - val_loss: 0.0433 - val_accuracy: 0.9862 - lr: 0.0010\n",
      "Epoch 10/30\n",
      "69/69 [==============================] - ETA: 0s - loss: 0.0575 - accuracy: 0.9903\n",
      "Epoch 10: val_loss improved from 0.04019 to 0.02360, saving model to /home/vamsidhar/Documents/purecode/solution_1/test_2023-04-01-19-32-46/model_weights.h5\n"
     ]
    },
    {
     "name": "stderr",
     "output_type": "stream",
     "text": [
      "WARNING:absl:Found untraced functions such as _jit_compiled_convolution_op, _jit_compiled_convolution_op, _jit_compiled_convolution_op, _jit_compiled_convolution_op, _jit_compiled_convolution_op while saving (showing 5 of 53). These functions will not be directly callable after loading.\n"
     ]
    },
    {
     "name": "stdout",
     "output_type": "stream",
     "text": [
      "INFO:tensorflow:Assets written to: /home/vamsidhar/Documents/purecode/solution_1/wandb/run-20230402_010248-rn5x7grd/files/model-best/assets\n"
     ]
    },
    {
     "name": "stderr",
     "output_type": "stream",
     "text": [
      "INFO:tensorflow:Assets written to: /home/vamsidhar/Documents/purecode/solution_1/wandb/run-20230402_010248-rn5x7grd/files/model-best/assets\n",
      "\u001b[34m\u001b[1mwandb\u001b[0m: Adding directory to artifact (/home/vamsidhar/Documents/purecode/solution_1/wandb/run-20230402_010248-rn5x7grd/files/model-best)... Done. 1.4s\n"
     ]
    },
    {
     "name": "stdout",
     "output_type": "stream",
     "text": [
      "69/69 [==============================] - 69s 1s/step - loss: 0.0575 - accuracy: 0.9903 - val_loss: 0.0236 - val_accuracy: 0.9936 - lr: 0.0010\n",
      "Epoch 11/30\n",
      "69/69 [==============================] - ETA: 0s - loss: 0.0488 - accuracy: 0.9924\n",
      "Epoch 11: val_loss did not improve from 0.02360\n",
      "69/69 [==============================] - 32s 465ms/step - loss: 0.0488 - accuracy: 0.9924 - val_loss: 0.5459 - val_accuracy: 0.8686 - lr: 0.0010\n",
      "Epoch 12/30\n",
      "69/69 [==============================] - ETA: 0s - loss: 0.0506 - accuracy: 0.9916\n",
      "Epoch 12: val_loss did not improve from 0.02360\n",
      "69/69 [==============================] - 35s 505ms/step - loss: 0.0506 - accuracy: 0.9916 - val_loss: 0.0540 - val_accuracy: 0.9784 - lr: 0.0010\n",
      "Epoch 13/30\n",
      "69/69 [==============================] - ETA: 0s - loss: 0.0527 - accuracy: 0.9916\n",
      "Epoch 13: val_loss did not improve from 0.02360\n",
      "69/69 [==============================] - 39s 567ms/step - loss: 0.0527 - accuracy: 0.9916 - val_loss: 0.3152 - val_accuracy: 0.9324 - lr: 0.0010\n",
      "Epoch 14/30\n",
      "69/69 [==============================] - ETA: 0s - loss: 0.1038 - accuracy: 0.9813\n",
      "Epoch 14: val_loss did not improve from 0.02360\n",
      "69/69 [==============================] - 38s 546ms/step - loss: 0.1038 - accuracy: 0.9813 - val_loss: 0.5170 - val_accuracy: 0.8355 - lr: 0.0010\n",
      "Epoch 15/30\n",
      "69/69 [==============================] - ETA: 0s - loss: 0.0691 - accuracy: 0.9885\n",
      "Epoch 15: val_loss did not improve from 0.02360\n",
      "69/69 [==============================] - 39s 571ms/step - loss: 0.0691 - accuracy: 0.9885 - val_loss: 0.0953 - val_accuracy: 0.9724 - lr: 0.0010\n",
      "Epoch 16/30\n",
      "69/69 [==============================] - ETA: 0s - loss: 0.0429 - accuracy: 0.9934\n",
      "Epoch 16: val_loss did not improve from 0.02360\n",
      "69/69 [==============================] - 41s 591ms/step - loss: 0.0429 - accuracy: 0.9934 - val_loss: 0.1061 - val_accuracy: 0.9692 - lr: 0.0010\n",
      "Epoch 17/30\n",
      "69/69 [==============================] - ETA: 0s - loss: 0.0359 - accuracy: 0.9938\n",
      "Epoch 17: val_loss did not improve from 0.02360\n",
      "69/69 [==============================] - 45s 651ms/step - loss: 0.0359 - accuracy: 0.9938 - val_loss: 0.0438 - val_accuracy: 0.9894 - lr: 0.0010\n",
      "Epoch 18/30\n",
      "69/69 [==============================] - ETA: 0s - loss: 0.0348 - accuracy: 0.9942\n",
      "Epoch 18: val_loss did not improve from 0.02360\n",
      "69/69 [==============================] - 42s 610ms/step - loss: 0.0348 - accuracy: 0.9942 - val_loss: 0.0608 - val_accuracy: 0.9789 - lr: 0.0010\n",
      "Epoch 19/30\n",
      "69/69 [==============================] - ETA: 0s - loss: 0.0347 - accuracy: 0.9947\n",
      "Epoch 19: val_loss did not improve from 0.02360\n",
      "69/69 [==============================] - 45s 660ms/step - loss: 0.0347 - accuracy: 0.9947 - val_loss: 0.0411 - val_accuracy: 0.9881 - lr: 0.0010\n",
      "Epoch 20/30\n",
      "69/69 [==============================] - ETA: 0s - loss: 0.0454 - accuracy: 0.9938\n",
      "Epoch 20: val_loss did not improve from 0.02360\n",
      "69/69 [==============================] - 43s 620ms/step - loss: 0.0454 - accuracy: 0.9938 - val_loss: 0.3256 - val_accuracy: 0.9453 - lr: 0.0010\n",
      "Epoch 21/30\n",
      "69/69 [==============================] - ETA: 0s - loss: 0.0691 - accuracy: 0.9881\n",
      "Epoch 21: val_loss did not improve from 0.02360\n",
      "69/69 [==============================] - 47s 685ms/step - loss: 0.0691 - accuracy: 0.9881 - val_loss: 0.2623 - val_accuracy: 0.9426 - lr: 0.0010\n",
      "Epoch 22/30\n",
      "69/69 [==============================] - ETA: 0s - loss: 0.0573 - accuracy: 0.9899\n",
      "Epoch 22: val_loss did not improve from 0.02360\n",
      "69/69 [==============================] - 45s 663ms/step - loss: 0.0573 - accuracy: 0.9899 - val_loss: 0.0559 - val_accuracy: 0.9839 - lr: 0.0010\n",
      "Epoch 23/30\n",
      "69/69 [==============================] - ETA: 0s - loss: 0.0687 - accuracy: 0.9895\n",
      "Epoch 23: val_loss did not improve from 0.02360\n",
      "69/69 [==============================] - 46s 673ms/step - loss: 0.0687 - accuracy: 0.9895 - val_loss: 0.1267 - val_accuracy: 0.9637 - lr: 0.0010\n",
      "Epoch 24/30\n",
      "69/69 [==============================] - ETA: 0s - loss: 0.0559 - accuracy: 0.9904\n",
      "Epoch 24: val_loss did not improve from 0.02360\n",
      "69/69 [==============================] - 44s 647ms/step - loss: 0.0559 - accuracy: 0.9904 - val_loss: 0.1151 - val_accuracy: 0.9655 - lr: 0.0010\n",
      "Epoch 25/30\n",
      "69/69 [==============================] - ETA: 0s - loss: 0.0445 - accuracy: 0.9928\n",
      "Epoch 25: val_loss did not improve from 0.02360\n",
      "\n",
      "Epoch 25: ReduceLROnPlateau reducing learning rate to 0.0005000000237487257.\n",
      "69/69 [==============================] - 45s 649ms/step - loss: 0.0445 - accuracy: 0.9928 - val_loss: 0.0440 - val_accuracy: 0.9890 - lr: 0.0010\n",
      "Epoch 26/30\n",
      "69/69 [==============================] - ETA: 0s - loss: 0.0258 - accuracy: 0.9954\n",
      "Epoch 26: val_loss improved from 0.02360 to 0.01772, saving model to /home/vamsidhar/Documents/purecode/solution_1/test_2023-04-01-19-32-46/model_weights.h5\n"
     ]
    },
    {
     "name": "stderr",
     "output_type": "stream",
     "text": [
      "WARNING:absl:Found untraced functions such as _jit_compiled_convolution_op, _jit_compiled_convolution_op, _jit_compiled_convolution_op, _jit_compiled_convolution_op, _jit_compiled_convolution_op while saving (showing 5 of 53). These functions will not be directly callable after loading.\n"
     ]
    },
    {
     "name": "stdout",
     "output_type": "stream",
     "text": [
      "INFO:tensorflow:Assets written to: /home/vamsidhar/Documents/purecode/solution_1/wandb/run-20230402_010248-rn5x7grd/files/model-best/assets\n"
     ]
    },
    {
     "name": "stderr",
     "output_type": "stream",
     "text": [
      "INFO:tensorflow:Assets written to: /home/vamsidhar/Documents/purecode/solution_1/wandb/run-20230402_010248-rn5x7grd/files/model-best/assets\n",
      "\u001b[34m\u001b[1mwandb\u001b[0m: Adding directory to artifact (/home/vamsidhar/Documents/purecode/solution_1/wandb/run-20230402_010248-rn5x7grd/files/model-best)... Done. 1.6s\n"
     ]
    },
    {
     "name": "stdout",
     "output_type": "stream",
     "text": [
      "69/69 [==============================] - 107s 2s/step - loss: 0.0258 - accuracy: 0.9954 - val_loss: 0.0177 - val_accuracy: 0.9949 - lr: 5.0000e-04\n",
      "Epoch 27/30\n",
      "69/69 [==============================] - ETA: 0s - loss: 0.0402 - accuracy: 0.9922\n",
      "Epoch 27: val_loss did not improve from 0.01772\n",
      "69/69 [==============================] - 32s 471ms/step - loss: 0.0402 - accuracy: 0.9922 - val_loss: 0.0579 - val_accuracy: 0.9821 - lr: 5.0000e-04\n",
      "Epoch 28/30\n",
      "69/69 [==============================] - ETA: 0s - loss: 0.0250 - accuracy: 0.9960\n",
      "Epoch 28: val_loss did not improve from 0.01772\n",
      "69/69 [==============================] - 40s 578ms/step - loss: 0.0250 - accuracy: 0.9960 - val_loss: 0.0495 - val_accuracy: 0.9890 - lr: 5.0000e-04\n",
      "Epoch 29/30\n",
      "69/69 [==============================] - ETA: 0s - loss: 0.0207 - accuracy: 0.9969\n",
      "Epoch 29: val_loss did not improve from 0.01772\n",
      "69/69 [==============================] - 46s 669ms/step - loss: 0.0207 - accuracy: 0.9969 - val_loss: 0.0463 - val_accuracy: 0.9899 - lr: 5.0000e-04\n",
      "Epoch 30/30\n",
      "69/69 [==============================] - ETA: 0s - loss: 0.0264 - accuracy: 0.9947\n",
      "Epoch 30: val_loss did not improve from 0.01772\n",
      "69/69 [==============================] - 47s 683ms/step - loss: 0.0264 - accuracy: 0.9947 - val_loss: 0.0398 - val_accuracy: 0.9899 - lr: 5.0000e-04\n"
     ]
    }
   ],
   "source": [
    "\n",
    "history = model.fit(\n",
    "                train_dataset_tf,\n",
    "                steps_per_epoch= len(train_file_name)// w_config.batch_size,\n",
    "                epochs=w_config.epochs,\n",
    "                validation_data=val_dataset_tf,\n",
    "                validation_steps= len(val_file_name)// w_config.batch_size,\n",
    "                callbacks = [checkpoint, reduce_lr, WandbCallback()], \n",
    "                class_weight = class_weights,\n",
    "                verbose=1\n",
    "                )\n",
    "\n",
    "\n",
    "# history = model.fit_generator(\n",
    "#                 train_data_gen,\n",
    "#                 steps_per_epoch= len(train_file_name)// w_config.batch_size,\n",
    "#                 epochs=w_config.epochs,\n",
    "#                 validation_data=val_data_gen,\n",
    "#                 validation_steps= len(val_file_name)// w_config.batch_size,\n",
    "#                 callbacks = [checkpoint, reduce_lr, WandbCallback()], \n",
    "#                 class_weight = class_weights,\n",
    "#                 verbose=1\n",
    "#                 )"
   ]
  },
  {
   "cell_type": "code",
   "execution_count": 29,
   "metadata": {
    "gradient": {}
   },
   "outputs": [
    {
     "data": {
      "application/javascript": "$(\"#save-notbook button\").trigger('click');\n",
      "text/plain": [
       "<IPython.core.display.Javascript object>"
      ]
     },
     "metadata": {},
     "output_type": "display_data"
    }
   ],
   "source": [
    "%%javascript\n",
    "$(\"#save-notbook button\").trigger('click');"
   ]
  },
  {
   "cell_type": "markdown",
   "metadata": {},
   "source": [
    "Plotting accuracy and loss curves obtained on training and validation dataset during model training phase"
   ]
  },
  {
   "cell_type": "code",
   "execution_count": 30,
   "metadata": {
    "gradient": {}
   },
   "outputs": [
    {
     "data": {
      "image/png": "[encoded data removed]",
      "text/plain": [
       "<Figure size 1200x400 with 2 Axes>"
      ]
     },
     "metadata": {},
     "output_type": "display_data"
    }
   ],
   "source": [
    "\n",
    "# Plot training & validation accuracy values\n",
    "plt.figure(figsize=(12, 4))\n",
    "plt.subplot(121)\n",
    "plt.plot(history.history['accuracy'])\n",
    "plt.plot(history.history['val_accuracy'])\n",
    "plt.title('Model accuracy')\n",
    "plt.ylabel('Accuracy')\n",
    "plt.xlabel('Epoch')\n",
    "plt.legend(['Train', 'Test'], loc='upper left')\n",
    "plt.grid(True)\n",
    "\n",
    "#plt.show()\n",
    "# Plot training & validation loss values\n",
    "plt.subplot(122)\n",
    "plt.plot(history.history['loss'])\n",
    "plt.plot(history.history['val_loss'])\n",
    "plt.title('Model loss')\n",
    "plt.ylabel('Loss')\n",
    "plt.xlabel('Epoch')\n",
    "plt.legend(['Train', 'Test'], loc='upper left')\n",
    "plt.grid(True)\n",
    "plt.savefig(os.path.join(save_folder, 'Acc_loss.png'))\n",
    "plt.show() "
   ]
  },
  {
   "cell_type": "markdown",
   "metadata": {},
   "source": [
    "saving model architecture\n"
   ]
  },
  {
   "cell_type": "code",
   "execution_count": 31,
   "metadata": {
    "gradient": {}
   },
   "outputs": [
    {
     "name": "stdout",
     "output_type": "stream",
     "text": [
      "Model: \"model\"\n",
      "__________________________________________________________________________________________________\n",
      " Layer (type)                   Output Shape         Param #     Connected to                     \n",
      "==================================================================================================\n",
      " input_1 (InputLayer)           [(None, 128, 128, 3  0           []                               \n",
      "                                )]                                                                \n",
      "                                                                                                  \n",
      " conv1_pad (ZeroPadding2D)      (None, 134, 134, 3)  0           ['input_1[0][0]']                \n",
      "                                                                                                  \n",
      " conv1_conv (Conv2D)            (None, 64, 64, 64)   9472        ['conv1_pad[0][0]']              \n",
      "                                                                                                  \n",
      " pool1_pad (ZeroPadding2D)      (None, 66, 66, 64)   0           ['conv1_conv[0][0]']             \n",
      "                                                                                                  \n",
      " pool1_pool (MaxPooling2D)      (None, 32, 32, 64)   0           ['pool1_pad[0][0]']              \n",
      "                                                                                                  \n",
      " conv2_block1_preact_bn (BatchN  (None, 32, 32, 64)  256         ['pool1_pool[0][0]']             \n",
      " ormalization)                                                                                    \n",
      "                                                                                                  \n",
      " conv2_block1_preact_relu (Acti  (None, 32, 32, 64)  0           ['conv2_block1_preact_bn[0][0]'] \n",
      " vation)                                                                                          \n",
      "                                                                                                  \n",
      " conv2_block1_1_conv (Conv2D)   (None, 32, 32, 64)   4096        ['conv2_block1_preact_relu[0][0]'\n",
      "                                                                 ]                                \n",
      "                                                                                                  \n",
      " conv2_block1_1_bn (BatchNormal  (None, 32, 32, 64)  256         ['conv2_block1_1_conv[0][0]']    \n",
      " ization)                                                                                         \n",
      "                                                                                                  \n",
      " conv2_block1_1_relu (Activatio  (None, 32, 32, 64)  0           ['conv2_block1_1_bn[0][0]']      \n",
      " n)                                                                                               \n",
      "                                                                                                  \n",
      " conv2_block1_2_pad (ZeroPaddin  (None, 34, 34, 64)  0           ['conv2_block1_1_relu[0][0]']    \n",
      " g2D)                                                                                             \n",
      "                                                                                                  \n",
      " conv2_block1_2_conv (Conv2D)   (None, 32, 32, 64)   36864       ['conv2_block1_2_pad[0][0]']     \n",
      "                                                                                                  \n",
      " conv2_block1_2_bn (BatchNormal  (None, 32, 32, 64)  256         ['conv2_block1_2_conv[0][0]']    \n",
      " ization)                                                                                         \n",
      "                                                                                                  \n",
      " conv2_block1_2_relu (Activatio  (None, 32, 32, 64)  0           ['conv2_block1_2_bn[0][0]']      \n",
      " n)                                                                                               \n",
      "                                                                                                  \n",
      " conv2_block1_0_conv (Conv2D)   (None, 32, 32, 256)  16640       ['conv2_block1_preact_relu[0][0]'\n",
      "                                                                 ]                                \n",
      "                                                                                                  \n",
      " conv2_block1_3_conv (Conv2D)   (None, 32, 32, 256)  16640       ['conv2_block1_2_relu[0][0]']    \n",
      "                                                                                                  \n",
      " conv2_block1_out (Add)         (None, 32, 32, 256)  0           ['conv2_block1_0_conv[0][0]',    \n",
      "                                                                  'conv2_block1_3_conv[0][0]']    \n",
      "                                                                                                  \n",
      " conv2_block2_preact_bn (BatchN  (None, 32, 32, 256)  1024       ['conv2_block1_out[0][0]']       \n",
      " ormalization)                                                                                    \n",
      "                                                                                                  \n",
      " conv2_block2_preact_relu (Acti  (None, 32, 32, 256)  0          ['conv2_block2_preact_bn[0][0]'] \n",
      " vation)                                                                                          \n",
      "                                                                                                  \n",
      " conv2_block2_1_conv (Conv2D)   (None, 32, 32, 64)   16384       ['conv2_block2_preact_relu[0][0]'\n",
      "                                                                 ]                                \n",
      "                                                                                                  \n",
      " conv2_block2_1_bn (BatchNormal  (None, 32, 32, 64)  256         ['conv2_block2_1_conv[0][0]']    \n",
      " ization)                                                                                         \n",
      "                                                                                                  \n",
      " conv2_block2_1_relu (Activatio  (None, 32, 32, 64)  0           ['conv2_block2_1_bn[0][0]']      \n",
      " n)                                                                                               \n",
      "                                                                                                  \n",
      " conv2_block2_2_pad (ZeroPaddin  (None, 34, 34, 64)  0           ['conv2_block2_1_relu[0][0]']    \n",
      " g2D)                                                                                             \n",
      "                                                                                                  \n",
      " conv2_block2_2_conv (Conv2D)   (None, 32, 32, 64)   36864       ['conv2_block2_2_pad[0][0]']     \n",
      "                                                                                                  \n",
      " conv2_block2_2_bn (BatchNormal  (None, 32, 32, 64)  256         ['conv2_block2_2_conv[0][0]']    \n",
      " ization)                                                                                         \n",
      "                                                                                                  \n",
      " conv2_block2_2_relu (Activatio  (None, 32, 32, 64)  0           ['conv2_block2_2_bn[0][0]']      \n",
      " n)                                                                                               \n",
      "                                                                                                  \n",
      " conv2_block2_3_conv (Conv2D)   (None, 32, 32, 256)  16640       ['conv2_block2_2_relu[0][0]']    \n",
      "                                                                                                  \n",
      " conv2_block2_out (Add)         (None, 32, 32, 256)  0           ['conv2_block1_out[0][0]',       \n",
      "                                                                  'conv2_block2_3_conv[0][0]']    \n",
      "                                                                                                  \n",
      " conv2_block3_preact_bn (BatchN  (None, 32, 32, 256)  1024       ['conv2_block2_out[0][0]']       \n",
      " ormalization)                                                                                    \n",
      "                                                                                                  \n",
      " conv2_block3_preact_relu (Acti  (None, 32, 32, 256)  0          ['conv2_block3_preact_bn[0][0]'] \n"
     ]
    },
    {
     "name": "stdout",
     "output_type": "stream",
     "text": [
      " vation)                                                                                          \n",
      "                                                                                                  \n",
      " conv2_block3_1_conv (Conv2D)   (None, 32, 32, 64)   16384       ['conv2_block3_preact_relu[0][0]'\n",
      "                                                                 ]                                \n",
      "                                                                                                  \n",
      " conv2_block3_1_bn (BatchNormal  (None, 32, 32, 64)  256         ['conv2_block3_1_conv[0][0]']    \n",
      " ization)                                                                                         \n",
      "                                                                                                  \n",
      " conv2_block3_1_relu (Activatio  (None, 32, 32, 64)  0           ['conv2_block3_1_bn[0][0]']      \n",
      " n)                                                                                               \n",
      "                                                                                                  \n",
      " conv2_block3_2_pad (ZeroPaddin  (None, 34, 34, 64)  0           ['conv2_block3_1_relu[0][0]']    \n",
      " g2D)                                                                                             \n",
      "                                                                                                  \n",
      " conv2_block3_2_conv (Conv2D)   (None, 16, 16, 64)   36864       ['conv2_block3_2_pad[0][0]']     \n",
      "                                                                                                  \n",
      " conv2_block3_2_bn (BatchNormal  (None, 16, 16, 64)  256         ['conv2_block3_2_conv[0][0]']    \n",
      " ization)                                                                                         \n",
      "                                                                                                  \n",
      " conv2_block3_2_relu (Activatio  (None, 16, 16, 64)  0           ['conv2_block3_2_bn[0][0]']      \n",
      " n)                                                                                               \n",
      "                                                                                                  \n",
      " max_pooling2d (MaxPooling2D)   (None, 16, 16, 256)  0           ['conv2_block2_out[0][0]']       \n",
      "                                                                                                  \n",
      " conv2_block3_3_conv (Conv2D)   (None, 16, 16, 256)  16640       ['conv2_block3_2_relu[0][0]']    \n",
      "                                                                                                  \n",
      " conv2_block3_out (Add)         (None, 16, 16, 256)  0           ['max_pooling2d[0][0]',          \n",
      "                                                                  'conv2_block3_3_conv[0][0]']    \n",
      "                                                                                                  \n",
      " conv3_block1_preact_bn (BatchN  (None, 16, 16, 256)  1024       ['conv2_block3_out[0][0]']       \n",
      " ormalization)                                                                                    \n",
      "                                                                                                  \n",
      " conv3_block1_preact_relu (Acti  (None, 16, 16, 256)  0          ['conv3_block1_preact_bn[0][0]'] \n",
      " vation)                                                                                          \n",
      "                                                                                                  \n",
      " conv3_block1_1_conv (Conv2D)   (None, 16, 16, 128)  32768       ['conv3_block1_preact_relu[0][0]'\n",
      "                                                                 ]                                \n",
      "                                                                                                  \n",
      " conv3_block1_1_bn (BatchNormal  (None, 16, 16, 128)  512        ['conv3_block1_1_conv[0][0]']    \n",
      " ization)                                                                                         \n",
      "                                                                                                  \n",
      " conv3_block1_1_relu (Activatio  (None, 16, 16, 128)  0          ['conv3_block1_1_bn[0][0]']      \n",
      " n)                                                                                               \n",
      "                                                                                                  \n",
      " conv3_block1_2_pad (ZeroPaddin  (None, 18, 18, 128)  0          ['conv3_block1_1_relu[0][0]']    \n",
      " g2D)                                                                                             \n",
      "                                                                                                  \n",
      " conv3_block1_2_conv (Conv2D)   (None, 16, 16, 128)  147456      ['conv3_block1_2_pad[0][0]']     \n",
      "                                                                                                  \n",
      " conv3_block1_2_bn (BatchNormal  (None, 16, 16, 128)  512        ['conv3_block1_2_conv[0][0]']    \n",
      " ization)                                                                                         \n",
      "                                                                                                  \n",
      " conv3_block1_2_relu (Activatio  (None, 16, 16, 128)  0          ['conv3_block1_2_bn[0][0]']      \n",
      " n)                                                                                               \n",
      "                                                                                                  \n",
      " conv3_block1_0_conv (Conv2D)   (None, 16, 16, 512)  131584      ['conv3_block1_preact_relu[0][0]'\n",
      "                                                                 ]                                \n",
      "                                                                                                  \n",
      " conv3_block1_3_conv (Conv2D)   (None, 16, 16, 512)  66048       ['conv3_block1_2_relu[0][0]']    \n",
      "                                                                                                  \n",
      " conv3_block1_out (Add)         (None, 16, 16, 512)  0           ['conv3_block1_0_conv[0][0]',    \n",
      "                                                                  'conv3_block1_3_conv[0][0]']    \n",
      "                                                                                                  \n",
      " conv3_block2_preact_bn (BatchN  (None, 16, 16, 512)  2048       ['conv3_block1_out[0][0]']       \n",
      " ormalization)                                                                                    \n",
      "                                                                                                  \n",
      " conv3_block2_preact_relu (Acti  (None, 16, 16, 512)  0          ['conv3_block2_preact_bn[0][0]'] \n",
      " vation)                                                                                          \n",
      "                                                                                                  \n",
      " conv3_block2_1_conv (Conv2D)   (None, 16, 16, 128)  65536       ['conv3_block2_preact_relu[0][0]'\n",
      "                                                                 ]                                \n",
      "                                                                                                  \n",
      " conv3_block2_1_bn (BatchNormal  (None, 16, 16, 128)  512        ['conv3_block2_1_conv[0][0]']    \n",
      " ization)                                                                                         \n",
      "                                                                                                  \n",
      " conv3_block2_1_relu (Activatio  (None, 16, 16, 128)  0          ['conv3_block2_1_bn[0][0]']      \n",
      " n)                                                                                               \n",
      "                                                                                                  \n",
      " conv3_block2_2_pad (ZeroPaddin  (None, 18, 18, 128)  0          ['conv3_block2_1_relu[0][0]']    \n",
      " g2D)                                                                                             \n",
      "                                                                                                  \n",
      " conv3_block2_2_conv (Conv2D)   (None, 16, 16, 128)  147456      ['conv3_block2_2_pad[0][0]']     \n",
      "                                                                                                  \n"
     ]
    },
    {
     "name": "stdout",
     "output_type": "stream",
     "text": [
      " conv3_block2_2_bn (BatchNormal  (None, 16, 16, 128)  512        ['conv3_block2_2_conv[0][0]']    \n",
      " ization)                                                                                         \n",
      "                                                                                                  \n",
      " conv3_block2_2_relu (Activatio  (None, 16, 16, 128)  0          ['conv3_block2_2_bn[0][0]']      \n",
      " n)                                                                                               \n",
      "                                                                                                  \n",
      " conv3_block2_3_conv (Conv2D)   (None, 16, 16, 512)  66048       ['conv3_block2_2_relu[0][0]']    \n",
      "                                                                                                  \n",
      " conv3_block2_out (Add)         (None, 16, 16, 512)  0           ['conv3_block1_out[0][0]',       \n",
      "                                                                  'conv3_block2_3_conv[0][0]']    \n",
      "                                                                                                  \n",
      " conv3_block3_preact_bn (BatchN  (None, 16, 16, 512)  2048       ['conv3_block2_out[0][0]']       \n",
      " ormalization)                                                                                    \n",
      "                                                                                                  \n",
      " conv3_block3_preact_relu (Acti  (None, 16, 16, 512)  0          ['conv3_block3_preact_bn[0][0]'] \n",
      " vation)                                                                                          \n",
      "                                                                                                  \n",
      " conv3_block3_1_conv (Conv2D)   (None, 16, 16, 128)  65536       ['conv3_block3_preact_relu[0][0]'\n",
      "                                                                 ]                                \n",
      "                                                                                                  \n",
      " conv3_block3_1_bn (BatchNormal  (None, 16, 16, 128)  512        ['conv3_block3_1_conv[0][0]']    \n",
      " ization)                                                                                         \n",
      "                                                                                                  \n",
      " conv3_block3_1_relu (Activatio  (None, 16, 16, 128)  0          ['conv3_block3_1_bn[0][0]']      \n",
      " n)                                                                                               \n",
      "                                                                                                  \n",
      " conv3_block3_2_pad (ZeroPaddin  (None, 18, 18, 128)  0          ['conv3_block3_1_relu[0][0]']    \n",
      " g2D)                                                                                             \n",
      "                                                                                                  \n",
      " conv3_block3_2_conv (Conv2D)   (None, 16, 16, 128)  147456      ['conv3_block3_2_pad[0][0]']     \n",
      "                                                                                                  \n",
      " conv3_block3_2_bn (BatchNormal  (None, 16, 16, 128)  512        ['conv3_block3_2_conv[0][0]']    \n",
      " ization)                                                                                         \n",
      "                                                                                                  \n",
      " conv3_block3_2_relu (Activatio  (None, 16, 16, 128)  0          ['conv3_block3_2_bn[0][0]']      \n",
      " n)                                                                                               \n",
      "                                                                                                  \n",
      " conv3_block3_3_conv (Conv2D)   (None, 16, 16, 512)  66048       ['conv3_block3_2_relu[0][0]']    \n",
      "                                                                                                  \n",
      " conv3_block3_out (Add)         (None, 16, 16, 512)  0           ['conv3_block2_out[0][0]',       \n",
      "                                                                  'conv3_block3_3_conv[0][0]']    \n",
      "                                                                                                  \n",
      " conv3_block4_preact_bn (BatchN  (None, 16, 16, 512)  2048       ['conv3_block3_out[0][0]']       \n",
      " ormalization)                                                                                    \n",
      "                                                                                                  \n",
      " conv3_block4_preact_relu (Acti  (None, 16, 16, 512)  0          ['conv3_block4_preact_bn[0][0]'] \n",
      " vation)                                                                                          \n",
      "                                                                                                  \n",
      " conv3_block4_1_conv (Conv2D)   (None, 16, 16, 128)  65536       ['conv3_block4_preact_relu[0][0]'\n",
      "                                                                 ]                                \n",
      "                                                                                                  \n",
      " conv3_block4_1_bn (BatchNormal  (None, 16, 16, 128)  512        ['conv3_block4_1_conv[0][0]']    \n",
      " ization)                                                                                         \n",
      "                                                                                                  \n",
      " conv3_block4_1_relu (Activatio  (None, 16, 16, 128)  0          ['conv3_block4_1_bn[0][0]']      \n",
      " n)                                                                                               \n",
      "                                                                                                  \n",
      " conv3_block4_2_pad (ZeroPaddin  (None, 18, 18, 128)  0          ['conv3_block4_1_relu[0][0]']    \n",
      " g2D)                                                                                             \n",
      "                                                                                                  \n",
      " conv3_block4_2_conv (Conv2D)   (None, 8, 8, 128)    147456      ['conv3_block4_2_pad[0][0]']     \n",
      "                                                                                                  \n",
      " conv3_block4_2_bn (BatchNormal  (None, 8, 8, 128)   512         ['conv3_block4_2_conv[0][0]']    \n",
      " ization)                                                                                         \n",
      "                                                                                                  \n",
      " conv3_block4_2_relu (Activatio  (None, 8, 8, 128)   0           ['conv3_block4_2_bn[0][0]']      \n",
      " n)                                                                                               \n",
      "                                                                                                  \n",
      " max_pooling2d_1 (MaxPooling2D)  (None, 8, 8, 512)   0           ['conv3_block3_out[0][0]']       \n",
      "                                                                                                  \n",
      " conv3_block4_3_conv (Conv2D)   (None, 8, 8, 512)    66048       ['conv3_block4_2_relu[0][0]']    \n",
      "                                                                                                  \n",
      " conv3_block4_out (Add)         (None, 8, 8, 512)    0           ['max_pooling2d_1[0][0]',        \n",
      "                                                                  'conv3_block4_3_conv[0][0]']    \n",
      "                                                                                                  \n",
      " conv4_block1_preact_bn (BatchN  (None, 8, 8, 512)   2048        ['conv3_block4_out[0][0]']       \n",
      " ormalization)                                                                                    \n",
      "                                                                                                  \n",
      " conv4_block1_preact_relu (Acti  (None, 8, 8, 512)   0           ['conv4_block1_preact_bn[0][0]'] \n",
      " vation)                                                                                          \n",
      "                                                                                                  \n",
      " conv4_block1_1_conv (Conv2D)   (None, 8, 8, 256)    131072      ['conv4_block1_preact_relu[0][0]'\n",
      "                                                                 ]                                \n"
     ]
    },
    {
     "name": "stdout",
     "output_type": "stream",
     "text": [
      "                                                                                                  \n",
      " conv4_block1_1_bn (BatchNormal  (None, 8, 8, 256)   1024        ['conv4_block1_1_conv[0][0]']    \n",
      " ization)                                                                                         \n",
      "                                                                                                  \n",
      " conv4_block1_1_relu (Activatio  (None, 8, 8, 256)   0           ['conv4_block1_1_bn[0][0]']      \n",
      " n)                                                                                               \n",
      "                                                                                                  \n",
      " conv4_block1_2_pad (ZeroPaddin  (None, 10, 10, 256)  0          ['conv4_block1_1_relu[0][0]']    \n",
      " g2D)                                                                                             \n",
      "                                                                                                  \n",
      " conv4_block1_2_conv (Conv2D)   (None, 8, 8, 256)    589824      ['conv4_block1_2_pad[0][0]']     \n",
      "                                                                                                  \n",
      " conv4_block1_2_bn (BatchNormal  (None, 8, 8, 256)   1024        ['conv4_block1_2_conv[0][0]']    \n",
      " ization)                                                                                         \n",
      "                                                                                                  \n",
      " conv4_block1_2_relu (Activatio  (None, 8, 8, 256)   0           ['conv4_block1_2_bn[0][0]']      \n",
      " n)                                                                                               \n",
      "                                                                                                  \n",
      " conv4_block1_0_conv (Conv2D)   (None, 8, 8, 1024)   525312      ['conv4_block1_preact_relu[0][0]'\n",
      "                                                                 ]                                \n",
      "                                                                                                  \n",
      " conv4_block1_3_conv (Conv2D)   (None, 8, 8, 1024)   263168      ['conv4_block1_2_relu[0][0]']    \n",
      "                                                                                                  \n",
      " conv4_block1_out (Add)         (None, 8, 8, 1024)   0           ['conv4_block1_0_conv[0][0]',    \n",
      "                                                                  'conv4_block1_3_conv[0][0]']    \n",
      "                                                                                                  \n",
      " conv4_block2_preact_bn (BatchN  (None, 8, 8, 1024)  4096        ['conv4_block1_out[0][0]']       \n",
      " ormalization)                                                                                    \n",
      "                                                                                                  \n",
      " conv4_block2_preact_relu (Acti  (None, 8, 8, 1024)  0           ['conv4_block2_preact_bn[0][0]'] \n",
      " vation)                                                                                          \n",
      "                                                                                                  \n",
      " conv4_block2_1_conv (Conv2D)   (None, 8, 8, 256)    262144      ['conv4_block2_preact_relu[0][0]'\n",
      "                                                                 ]                                \n",
      "                                                                                                  \n",
      " conv4_block2_1_bn (BatchNormal  (None, 8, 8, 256)   1024        ['conv4_block2_1_conv[0][0]']    \n",
      " ization)                                                                                         \n",
      "                                                                                                  \n",
      " conv4_block2_1_relu (Activatio  (None, 8, 8, 256)   0           ['conv4_block2_1_bn[0][0]']      \n",
      " n)                                                                                               \n",
      "                                                                                                  \n",
      " conv4_block2_2_pad (ZeroPaddin  (None, 10, 10, 256)  0          ['conv4_block2_1_relu[0][0]']    \n",
      " g2D)                                                                                             \n",
      "                                                                                                  \n",
      " conv4_block2_2_conv (Conv2D)   (None, 8, 8, 256)    589824      ['conv4_block2_2_pad[0][0]']     \n",
      "                                                                                                  \n",
      " conv4_block2_2_bn (BatchNormal  (None, 8, 8, 256)   1024        ['conv4_block2_2_conv[0][0]']    \n",
      " ization)                                                                                         \n",
      "                                                                                                  \n",
      " conv4_block2_2_relu (Activatio  (None, 8, 8, 256)   0           ['conv4_block2_2_bn[0][0]']      \n",
      " n)                                                                                               \n",
      "                                                                                                  \n",
      " conv4_block2_3_conv (Conv2D)   (None, 8, 8, 1024)   263168      ['conv4_block2_2_relu[0][0]']    \n",
      "                                                                                                  \n",
      " conv4_block2_out (Add)         (None, 8, 8, 1024)   0           ['conv4_block1_out[0][0]',       \n",
      "                                                                  'conv4_block2_3_conv[0][0]']    \n",
      "                                                                                                  \n",
      " conv4_block3_preact_bn (BatchN  (None, 8, 8, 1024)  4096        ['conv4_block2_out[0][0]']       \n",
      " ormalization)                                                                                    \n",
      "                                                                                                  \n",
      " conv4_block3_preact_relu (Acti  (None, 8, 8, 1024)  0           ['conv4_block3_preact_bn[0][0]'] \n",
      " vation)                                                                                          \n",
      "                                                                                                  \n",
      " conv4_block3_1_conv (Conv2D)   (None, 8, 8, 256)    262144      ['conv4_block3_preact_relu[0][0]'\n",
      "                                                                 ]                                \n",
      "                                                                                                  \n",
      " conv4_block3_1_bn (BatchNormal  (None, 8, 8, 256)   1024        ['conv4_block3_1_conv[0][0]']    \n",
      " ization)                                                                                         \n",
      "                                                                                                  \n",
      " conv4_block3_1_relu (Activatio  (None, 8, 8, 256)   0           ['conv4_block3_1_bn[0][0]']      \n",
      " n)                                                                                               \n",
      "                                                                                                  \n",
      " conv4_block3_2_pad (ZeroPaddin  (None, 10, 10, 256)  0          ['conv4_block3_1_relu[0][0]']    \n",
      " g2D)                                                                                             \n",
      "                                                                                                  \n",
      " conv4_block3_2_conv (Conv2D)   (None, 8, 8, 256)    589824      ['conv4_block3_2_pad[0][0]']     \n",
      "                                                                                                  \n",
      " conv4_block3_2_bn (BatchNormal  (None, 8, 8, 256)   1024        ['conv4_block3_2_conv[0][0]']    \n",
      " ization)                                                                                         \n",
      "                                                                                                  \n",
      " conv4_block3_2_relu (Activatio  (None, 8, 8, 256)   0           ['conv4_block3_2_bn[0][0]']      \n",
      " n)                                                                                               \n",
      "                                                                                                  \n"
     ]
    },
    {
     "name": "stdout",
     "output_type": "stream",
     "text": [
      " conv4_block3_3_conv (Conv2D)   (None, 8, 8, 1024)   263168      ['conv4_block3_2_relu[0][0]']    \n",
      "                                                                                                  \n",
      " conv4_block3_out (Add)         (None, 8, 8, 1024)   0           ['conv4_block2_out[0][0]',       \n",
      "                                                                  'conv4_block3_3_conv[0][0]']    \n",
      "                                                                                                  \n",
      " conv4_block4_preact_bn (BatchN  (None, 8, 8, 1024)  4096        ['conv4_block3_out[0][0]']       \n",
      " ormalization)                                                                                    \n",
      "                                                                                                  \n",
      " conv4_block4_preact_relu (Acti  (None, 8, 8, 1024)  0           ['conv4_block4_preact_bn[0][0]'] \n",
      " vation)                                                                                          \n",
      "                                                                                                  \n",
      " conv4_block4_1_conv (Conv2D)   (None, 8, 8, 256)    262144      ['conv4_block4_preact_relu[0][0]'\n",
      "                                                                 ]                                \n",
      "                                                                                                  \n",
      " conv4_block4_1_bn (BatchNormal  (None, 8, 8, 256)   1024        ['conv4_block4_1_conv[0][0]']    \n",
      " ization)                                                                                         \n",
      "                                                                                                  \n",
      " conv4_block4_1_relu (Activatio  (None, 8, 8, 256)   0           ['conv4_block4_1_bn[0][0]']      \n",
      " n)                                                                                               \n",
      "                                                                                                  \n",
      " conv4_block4_2_pad (ZeroPaddin  (None, 10, 10, 256)  0          ['conv4_block4_1_relu[0][0]']    \n",
      " g2D)                                                                                             \n",
      "                                                                                                  \n",
      " conv4_block4_2_conv (Conv2D)   (None, 8, 8, 256)    589824      ['conv4_block4_2_pad[0][0]']     \n",
      "                                                                                                  \n",
      " conv4_block4_2_bn (BatchNormal  (None, 8, 8, 256)   1024        ['conv4_block4_2_conv[0][0]']    \n",
      " ization)                                                                                         \n",
      "                                                                                                  \n",
      " conv4_block4_2_relu (Activatio  (None, 8, 8, 256)   0           ['conv4_block4_2_bn[0][0]']      \n",
      " n)                                                                                               \n",
      "                                                                                                  \n",
      " conv4_block4_3_conv (Conv2D)   (None, 8, 8, 1024)   263168      ['conv4_block4_2_relu[0][0]']    \n",
      "                                                                                                  \n",
      " conv4_block4_out (Add)         (None, 8, 8, 1024)   0           ['conv4_block3_out[0][0]',       \n",
      "                                                                  'conv4_block4_3_conv[0][0]']    \n",
      "                                                                                                  \n",
      " conv4_block5_preact_bn (BatchN  (None, 8, 8, 1024)  4096        ['conv4_block4_out[0][0]']       \n",
      " ormalization)                                                                                    \n",
      "                                                                                                  \n",
      " conv4_block5_preact_relu (Acti  (None, 8, 8, 1024)  0           ['conv4_block5_preact_bn[0][0]'] \n",
      " vation)                                                                                          \n",
      "                                                                                                  \n",
      " conv4_block5_1_conv (Conv2D)   (None, 8, 8, 256)    262144      ['conv4_block5_preact_relu[0][0]'\n",
      "                                                                 ]                                \n",
      "                                                                                                  \n",
      " conv4_block5_1_bn (BatchNormal  (None, 8, 8, 256)   1024        ['conv4_block5_1_conv[0][0]']    \n",
      " ization)                                                                                         \n",
      "                                                                                                  \n",
      " conv4_block5_1_relu (Activatio  (None, 8, 8, 256)   0           ['conv4_block5_1_bn[0][0]']      \n",
      " n)                                                                                               \n",
      "                                                                                                  \n",
      " conv4_block5_2_pad (ZeroPaddin  (None, 10, 10, 256)  0          ['conv4_block5_1_relu[0][0]']    \n",
      " g2D)                                                                                             \n",
      "                                                                                                  \n",
      " conv4_block5_2_conv (Conv2D)   (None, 8, 8, 256)    589824      ['conv4_block5_2_pad[0][0]']     \n",
      "                                                                                                  \n",
      " conv4_block5_2_bn (BatchNormal  (None, 8, 8, 256)   1024        ['conv4_block5_2_conv[0][0]']    \n",
      " ization)                                                                                         \n",
      "                                                                                                  \n",
      " conv4_block5_2_relu (Activatio  (None, 8, 8, 256)   0           ['conv4_block5_2_bn[0][0]']      \n",
      " n)                                                                                               \n",
      "                                                                                                  \n",
      " conv4_block5_3_conv (Conv2D)   (None, 8, 8, 1024)   263168      ['conv4_block5_2_relu[0][0]']    \n",
      "                                                                                                  \n",
      " conv4_block5_out (Add)         (None, 8, 8, 1024)   0           ['conv4_block4_out[0][0]',       \n",
      "                                                                  'conv4_block5_3_conv[0][0]']    \n",
      "                                                                                                  \n",
      " conv4_block6_preact_bn (BatchN  (None, 8, 8, 1024)  4096        ['conv4_block5_out[0][0]']       \n",
      " ormalization)                                                                                    \n",
      "                                                                                                  \n",
      " conv4_block6_preact_relu (Acti  (None, 8, 8, 1024)  0           ['conv4_block6_preact_bn[0][0]'] \n",
      " vation)                                                                                          \n",
      "                                                                                                  \n",
      " conv4_block6_1_conv (Conv2D)   (None, 8, 8, 256)    262144      ['conv4_block6_preact_relu[0][0]'\n",
      "                                                                 ]                                \n",
      "                                                                                                  \n",
      " conv4_block6_1_bn (BatchNormal  (None, 8, 8, 256)   1024        ['conv4_block6_1_conv[0][0]']    \n",
      " ization)                                                                                         \n",
      "                                                                                                  \n",
      " conv4_block6_1_relu (Activatio  (None, 8, 8, 256)   0           ['conv4_block6_1_bn[0][0]']      \n",
      " n)                                                                                               \n",
      "                                                                                                  \n",
      " conv4_block6_2_pad (ZeroPaddin  (None, 10, 10, 256)  0          ['conv4_block6_1_relu[0][0]']    \n"
     ]
    },
    {
     "name": "stdout",
     "output_type": "stream",
     "text": [
      " g2D)                                                                                             \n",
      "                                                                                                  \n",
      " conv4_block6_2_conv (Conv2D)   (None, 4, 4, 256)    589824      ['conv4_block6_2_pad[0][0]']     \n",
      "                                                                                                  \n",
      " conv4_block6_2_bn (BatchNormal  (None, 4, 4, 256)   1024        ['conv4_block6_2_conv[0][0]']    \n",
      " ization)                                                                                         \n",
      "                                                                                                  \n",
      " conv4_block6_2_relu (Activatio  (None, 4, 4, 256)   0           ['conv4_block6_2_bn[0][0]']      \n",
      " n)                                                                                               \n",
      "                                                                                                  \n",
      " max_pooling2d_2 (MaxPooling2D)  (None, 4, 4, 1024)  0           ['conv4_block5_out[0][0]']       \n",
      "                                                                                                  \n",
      " conv4_block6_3_conv (Conv2D)   (None, 4, 4, 1024)   263168      ['conv4_block6_2_relu[0][0]']    \n",
      "                                                                                                  \n",
      " conv4_block6_out (Add)         (None, 4, 4, 1024)   0           ['max_pooling2d_2[0][0]',        \n",
      "                                                                  'conv4_block6_3_conv[0][0]']    \n",
      "                                                                                                  \n",
      " conv5_block1_preact_bn (BatchN  (None, 4, 4, 1024)  4096        ['conv4_block6_out[0][0]']       \n",
      " ormalization)                                                                                    \n",
      "                                                                                                  \n",
      " conv5_block1_preact_relu (Acti  (None, 4, 4, 1024)  0           ['conv5_block1_preact_bn[0][0]'] \n",
      " vation)                                                                                          \n",
      "                                                                                                  \n",
      " conv5_block1_1_conv (Conv2D)   (None, 4, 4, 512)    524288      ['conv5_block1_preact_relu[0][0]'\n",
      "                                                                 ]                                \n",
      "                                                                                                  \n",
      " conv5_block1_1_bn (BatchNormal  (None, 4, 4, 512)   2048        ['conv5_block1_1_conv[0][0]']    \n",
      " ization)                                                                                         \n",
      "                                                                                                  \n",
      " conv5_block1_1_relu (Activatio  (None, 4, 4, 512)   0           ['conv5_block1_1_bn[0][0]']      \n",
      " n)                                                                                               \n",
      "                                                                                                  \n",
      " conv5_block1_2_pad (ZeroPaddin  (None, 6, 6, 512)   0           ['conv5_block1_1_relu[0][0]']    \n",
      " g2D)                                                                                             \n",
      "                                                                                                  \n",
      " conv5_block1_2_conv (Conv2D)   (None, 4, 4, 512)    2359296     ['conv5_block1_2_pad[0][0]']     \n",
      "                                                                                                  \n",
      " conv5_block1_2_bn (BatchNormal  (None, 4, 4, 512)   2048        ['conv5_block1_2_conv[0][0]']    \n",
      " ization)                                                                                         \n",
      "                                                                                                  \n",
      " conv5_block1_2_relu (Activatio  (None, 4, 4, 512)   0           ['conv5_block1_2_bn[0][0]']      \n",
      " n)                                                                                               \n",
      "                                                                                                  \n",
      " conv5_block1_0_conv (Conv2D)   (None, 4, 4, 2048)   2099200     ['conv5_block1_preact_relu[0][0]'\n",
      "                                                                 ]                                \n",
      "                                                                                                  \n",
      " conv5_block1_3_conv (Conv2D)   (None, 4, 4, 2048)   1050624     ['conv5_block1_2_relu[0][0]']    \n",
      "                                                                                                  \n",
      " conv5_block1_out (Add)         (None, 4, 4, 2048)   0           ['conv5_block1_0_conv[0][0]',    \n",
      "                                                                  'conv5_block1_3_conv[0][0]']    \n",
      "                                                                                                  \n",
      " conv5_block2_preact_bn (BatchN  (None, 4, 4, 2048)  8192        ['conv5_block1_out[0][0]']       \n",
      " ormalization)                                                                                    \n",
      "                                                                                                  \n",
      " conv5_block2_preact_relu (Acti  (None, 4, 4, 2048)  0           ['conv5_block2_preact_bn[0][0]'] \n",
      " vation)                                                                                          \n",
      "                                                                                                  \n",
      " conv5_block2_1_conv (Conv2D)   (None, 4, 4, 512)    1048576     ['conv5_block2_preact_relu[0][0]'\n",
      "                                                                 ]                                \n",
      "                                                                                                  \n",
      " conv5_block2_1_bn (BatchNormal  (None, 4, 4, 512)   2048        ['conv5_block2_1_conv[0][0]']    \n",
      " ization)                                                                                         \n",
      "                                                                                                  \n",
      " conv5_block2_1_relu (Activatio  (None, 4, 4, 512)   0           ['conv5_block2_1_bn[0][0]']      \n",
      " n)                                                                                               \n",
      "                                                                                                  \n",
      " conv5_block2_2_pad (ZeroPaddin  (None, 6, 6, 512)   0           ['conv5_block2_1_relu[0][0]']    \n",
      " g2D)                                                                                             \n",
      "                                                                                                  \n",
      " conv5_block2_2_conv (Conv2D)   (None, 4, 4, 512)    2359296     ['conv5_block2_2_pad[0][0]']     \n",
      "                                                                                                  \n",
      " conv5_block2_2_bn (BatchNormal  (None, 4, 4, 512)   2048        ['conv5_block2_2_conv[0][0]']    \n",
      " ization)                                                                                         \n",
      "                                                                                                  \n",
      " conv5_block2_2_relu (Activatio  (None, 4, 4, 512)   0           ['conv5_block2_2_bn[0][0]']      \n",
      " n)                                                                                               \n",
      "                                                                                                  \n",
      " conv5_block2_3_conv (Conv2D)   (None, 4, 4, 2048)   1050624     ['conv5_block2_2_relu[0][0]']    \n",
      "                                                                                                  \n",
      " conv5_block2_out (Add)         (None, 4, 4, 2048)   0           ['conv5_block1_out[0][0]',       \n",
      "                                                                  'conv5_block2_3_conv[0][0]']    \n",
      "                                                                                                  \n",
      " conv5_block3_preact_bn (BatchN  (None, 4, 4, 2048)  8192        ['conv5_block2_out[0][0]']       \n"
     ]
    },
    {
     "name": "stdout",
     "output_type": "stream",
     "text": [
      " ormalization)                                                                                    \n",
      "                                                                                                  \n",
      " conv5_block3_preact_relu (Acti  (None, 4, 4, 2048)  0           ['conv5_block3_preact_bn[0][0]'] \n",
      " vation)                                                                                          \n",
      "                                                                                                  \n",
      " conv5_block3_1_conv (Conv2D)   (None, 4, 4, 512)    1048576     ['conv5_block3_preact_relu[0][0]'\n",
      "                                                                 ]                                \n",
      "                                                                                                  \n",
      " conv5_block3_1_bn (BatchNormal  (None, 4, 4, 512)   2048        ['conv5_block3_1_conv[0][0]']    \n",
      " ization)                                                                                         \n",
      "                                                                                                  \n",
      " conv5_block3_1_relu (Activatio  (None, 4, 4, 512)   0           ['conv5_block3_1_bn[0][0]']      \n",
      " n)                                                                                               \n",
      "                                                                                                  \n",
      " conv5_block3_2_pad (ZeroPaddin  (None, 6, 6, 512)   0           ['conv5_block3_1_relu[0][0]']    \n",
      " g2D)                                                                                             \n",
      "                                                                                                  \n",
      " conv5_block3_2_conv (Conv2D)   (None, 4, 4, 512)    2359296     ['conv5_block3_2_pad[0][0]']     \n",
      "                                                                                                  \n",
      " conv5_block3_2_bn (BatchNormal  (None, 4, 4, 512)   2048        ['conv5_block3_2_conv[0][0]']    \n",
      " ization)                                                                                         \n",
      "                                                                                                  \n",
      " conv5_block3_2_relu (Activatio  (None, 4, 4, 512)   0           ['conv5_block3_2_bn[0][0]']      \n",
      " n)                                                                                               \n",
      "                                                                                                  \n",
      " conv5_block3_3_conv (Conv2D)   (None, 4, 4, 2048)   1050624     ['conv5_block3_2_relu[0][0]']    \n",
      "                                                                                                  \n",
      " conv5_block3_out (Add)         (None, 4, 4, 2048)   0           ['conv5_block2_out[0][0]',       \n",
      "                                                                  'conv5_block3_3_conv[0][0]']    \n",
      "                                                                                                  \n",
      " post_bn (BatchNormalization)   (None, 4, 4, 2048)   8192        ['conv5_block3_out[0][0]']       \n",
      "                                                                                                  \n",
      " post_relu (Activation)         (None, 4, 4, 2048)   0           ['post_bn[0][0]']                \n",
      "                                                                                                  \n",
      " max_pool (GlobalMaxPooling2D)  (None, 2048)         0           ['post_relu[0][0]']              \n",
      "                                                                                                  \n",
      " dense (Dense)                  (None, 5)            10245       ['max_pool[0][0]']               \n",
      "                                                                                                  \n",
      "==================================================================================================\n",
      "Total params: 23,575,045\n",
      "Trainable params: 23,529,605\n",
      "Non-trainable params: 45,440\n",
      "__________________________________________________________________________________________________\n"
     ]
    }
   ],
   "source": [
    "json_string = model.to_json()\n",
    "with open(architecture_save_path, 'w') as outfile:\n",
    "    outfile.write(json_string)\n",
    "    \n",
    "cnn_arch_str = open(architecture_save_path, 'r+')\n",
    "cnn_model = model_from_json((cnn_arch_str.read()))\n",
    "# cnn_model.load_weights(weight_path)\n",
    "cnn_model.summary()"
   ]
  },
  {
   "cell_type": "markdown",
   "metadata": {},
   "source": [
    "Loading the best model weights"
   ]
  },
  {
   "cell_type": "code",
   "execution_count": 32,
   "metadata": {
    "gradient": {}
   },
   "outputs": [],
   "source": [
    "\n",
    "# model = model_resnet50(classes=num_classes)\n",
    "# model_name = 'ResNet50V2'\n",
    "# model.compile(loss='categorical_crossentropy', optimizer=Adam(lr=0.001), metrics=['accuracy'])\n",
    "model.load_weights(model_save_path)"
   ]
  },
  {
   "cell_type": "markdown",
   "metadata": {},
   "source": [
    "Test accuracy reported on test dataset. It should match the accuracy on validation dataset to evaluate the training process"
   ]
  },
  {
   "cell_type": "code",
   "execution_count": 33,
   "metadata": {
    "gradient": {}
   },
   "outputs": [
    {
     "name": "stdout",
     "output_type": "stream",
     "text": [
      "21/21 [==============================] - 4s 189ms/step - loss: 0.0405 - accuracy: 0.9911\n",
      "\n",
      "The test accuracy for ResNet50V2 is  0.9910714030265808 \n",
      "\n"
     ]
    }
   ],
   "source": [
    "test_loss, test_acc = model.evaluate(test_dataset_tf, steps=len(test_file_name)//w_config.batch_size)\n",
    "print(\"\\nThe test accuracy for \" + w_config.model_name + \" is \", test_acc, \"\\n\")\n",
    "\n"
   ]
  },
  {
   "cell_type": "code",
   "execution_count": 34,
   "metadata": {
    "gradient": {}
   },
   "outputs": [
    {
     "data": {
      "application/javascript": "$(\"#save-notbook button\").trigger('click');\n",
      "text/plain": [
       "<IPython.core.display.Javascript object>"
      ]
     },
     "metadata": {},
     "output_type": "display_data"
    }
   ],
   "source": [
    "%%javascript\n",
    "$(\"#save-notbook button\").trigger('click');"
   ]
  },
  {
   "cell_type": "code",
   "execution_count": 35,
   "metadata": {},
   "outputs": [],
   "source": [
    "import pathlib"
   ]
  },
  {
   "cell_type": "code",
   "execution_count": 36,
   "metadata": {},
   "outputs": [],
   "source": [
    "# "
   ]
  },
  {
   "cell_type": "code",
   "execution_count": 37,
   "metadata": {},
   "outputs": [
    {
     "data": {
      "application/javascript": "$(\"#save-notbook button\").trigger('click');\n",
      "text/plain": [
       "<IPython.core.display.Javascript object>"
      ]
     },
     "metadata": {},
     "output_type": "display_data"
    }
   ],
   "source": [
    "%%javascript\n",
    "$(\"#save-notbook button\").trigger('click');"
   ]
  },
  {
   "cell_type": "code",
   "execution_count": 38,
   "metadata": {
    "gradient": {}
   },
   "outputs": [],
   "source": [
    "def plot_confusion_matrix(cm, classes,\n",
    "                          normalize=False,\n",
    "                          title='Confusion matrix',\n",
    "                          cmap=plt.cm.Blues,\n",
    "                         save_name='conf_mat.png'):\n",
    "    \"\"\"\n",
    "    This function prints and plots the confusion matrix.\n",
    "    Normalization can be applied by setting `normalize=True`.\n",
    "    \"\"\"\n",
    "    if normalize:\n",
    "        cm = cm.astype('float') / cm.sum(axis=1)[:, np.newaxis]\n",
    "        print(\"Normalized confusion matrix\")\n",
    "    else:\n",
    "        print(\" \")\n",
    "\n",
    "#     print(cm)\n",
    "    plt.figure(figsize=(12,12))\n",
    "    plt.imshow(cm, interpolation='nearest', cmap=cmap)\n",
    "    plt.title(title)\n",
    "    plt.colorbar()\n",
    "    tick_marks = np.arange(len(classes))\n",
    "    plt.xticks(tick_marks, classes, rotation=45)\n",
    "    plt.yticks(tick_marks, classes)\n",
    "    plt.xlim(-0.5, len(np.unique(classes))-0.5)\n",
    "    plt.ylim(len(np.unique(classes))-0.5, -0.5)\n",
    "\n",
    "    fmt = '.2f' if normalize else 'd'\n",
    "    thresh = cm.max() / 2.\n",
    "    for i, j in itertools.product(range(cm.shape[0]), range(cm.shape[1])):\n",
    "        plt.text(j, i, format(cm[i, j], fmt),\n",
    "                 horizontalalignment=\"center\",\n",
    "                 color=\"white\" if cm[i, j] > thresh else \"black\")\n",
    "\n",
    "    plt.ylabel('True label')\n",
    "    plt.xlabel('Predicted label')\n",
    "    plt.savefig(save_name)\n",
    "\n",
    "\n",
    "    \n",
    "def copy_misclassifications(file_paths, label_pred, label_gt, classes, mode, mis_classified=True, correct_classified=False):\n",
    "#     label_gt = test_label_orig.numpy().argmax(axis=1)\n",
    "\n",
    "    misclassification_path = os.path.join(save_folder, 'dataset_misclassified')\n",
    "    correct_classification_path = os.path.join(save_folder, 'dataset_correct_classified')\n",
    "    \n",
    "    os.makedirs(misclassification_path, exist_ok=True)\n",
    "    os.makedirs(correct_classification_path, exist_ok=True)\n",
    "\n",
    "    folder_location = None\n",
    "\n",
    "    for i, file_name in enumerate(file_paths):\n",
    "        if label_pred[i] != label_gt[i] and mis_classified is True:\n",
    "            folder_location = os.path.join(misclassification_path, mode, classes[label_gt[i]], classes[label_pred[i]])\n",
    "        elif label_pred[i] == label_gt[i] and correct_classified is True:\n",
    "            folder_location = os.path.join(correct_classification_path, mode, classes[label_pred[i]])\n",
    "        \n",
    "        if folder_location is not None:        \n",
    "            file_name_new = os.path.join(folder_location, file_name.split('/')[-1])\n",
    "            # file_name_new = os.path.join(folder_location, '-'.join([file_name.split('/')[-2], file_name.split('/')[-1]]))\n",
    "\n",
    "            os.makedirs(folder_location , exist_ok=True)\n",
    "\n",
    "#             print(i, file_name_new)\n",
    "\n",
    "            shutil.copy2(file_name, file_name_new)"
   ]
  },
  {
   "cell_type": "code",
   "execution_count": null,
   "metadata": {},
   "outputs": [],
   "source": []
  },
  {
   "cell_type": "code",
   "execution_count": 39,
   "metadata": {
    "gradient": {}
   },
   "outputs": [],
   "source": [
    "\n",
    "import itertools\n",
    "from sklearn.metrics import confusion_matrix\n",
    "from sklearn import metrics\n",
    "#from sklearn.externals import joblib \n",
    "from sklearn import preprocessing\n",
    "import pandas as pd\n",
    "import pickle as pkl\n",
    "import shutil"
   ]
  },
  {
   "cell_type": "code",
   "execution_count": null,
   "metadata": {
    "gradient": {}
   },
   "outputs": [],
   "source": []
  },
  {
   "cell_type": "code",
   "execution_count": 40,
   "metadata": {
    "gradient": {}
   },
   "outputs": [
    {
     "name": "stderr",
     "output_type": "stream",
     "text": [
      "2023-04-02 01:25:33.177207: I tensorflow/core/common_runtime/executor.cc:1197] [/device:CPU:0] (DEBUG INFO) Executor start aborting (this does not indicate an error and you can ignore this message): INVALID_ARGUMENT: You must feed a value for placeholder tensor 'Placeholder/_0' with dtype string and shape [2762]\n",
      "\t [[{{node Placeholder/_0}}]]\n",
      "2023-04-02 01:25:33.178014: I tensorflow/core/common_runtime/executor.cc:1197] [/device:CPU:0] (DEBUG INFO) Executor start aborting (this does not indicate an error and you can ignore this message): INVALID_ARGUMENT: You must feed a value for placeholder tensor 'Placeholder/_2' with dtype bool and shape [2762]\n",
      "\t [[{{node Placeholder/_2}}]]\n"
     ]
    }
   ],
   "source": [
    "\n",
    "test_data_gen, test_dataset_tf = give_generator_v2(file_names=test_file_name, labels=test_label, shuffle=False, \n",
    "                                  batch_size=w_config.batch_size, repeat=False, buffer_size=512, prefetch=True)\n"
   ]
  },
  {
   "cell_type": "markdown",
   "metadata": {},
   "source": [
    "Objective: For <b>inference</b> <br>\n",
    "Confusion matrix and Classification report obtained on Test dataset\n",
    "\n"
   ]
  },
  {
   "cell_type": "code",
   "execution_count": 41,
   "metadata": {
    "gradient": {}
   },
   "outputs": [
    {
     "name": "stdout",
     "output_type": "stream",
     "text": [
      "21/21 [============================>.] - ETA: 0s"
     ]
    },
    {
     "name": "stderr",
     "output_type": "stream",
     "text": [
      "2023-04-02 01:25:39.651358: W tensorflow/tsl/framework/bfc_allocator.cc:366] Garbage collection: deallocate free memory regions (i.e., allocations) so that we can re-allocate a larger region to avoid OOM due to memory fragmentation. If you see this message frequently, you are running near the threshold of the available device memory and re-allocation may incur great performance overhead. You may try smaller batch sizes to observe the performance impact. Set TF_ENABLE_GPU_GARBAGE_COLLECTION=false if you'd like to disable this feature.\n"
     ]
    },
    {
     "name": "stdout",
     "output_type": "stream",
     "text": [
      "21/21 [==============================] - 7s 278ms/step\n",
      "Normalized confusion matrix\n",
      "              precision    recall  f1-score   support\n",
      "\n",
      "      Switch       0.96      0.97      0.97        75\n",
      "    Checkbox       1.00      0.98      0.99       340\n",
      "        Card       0.99      0.99      0.99       537\n",
      "        Icon       0.99      1.00      1.00      1166\n",
      "      Button       0.99      0.99      0.99       644\n",
      "\n",
      "    accuracy                           0.99      2762\n",
      "   macro avg       0.99      0.99      0.99      2762\n",
      "weighted avg       0.99      0.99      0.99      2762\n",
      "\n"
     ]
    },
    {
     "data": {
      "image/png": "[encoded data removed]",
      "text/plain": [
       "<Figure size 1200x1200 with 2 Axes>"
      ]
     },
     "metadata": {},
     "output_type": "display_data"
    }
   ],
   "source": [
    "\n",
    "# test_generator.reset()\n",
    "y_pred_softmax = model.predict(test_dataset_tf, steps=len(test_file_name)/w_config.batch_size)\n",
    "y_pred = y_pred_softmax.argmax(axis=1)\n",
    "y_test = np.argmax(test_label,axis=1)\n",
    "matrix = confusion_matrix(y_test, y_pred)\n",
    "\n",
    "plot_confusion_matrix(matrix, classes_test , title = \"Confusion matrix\",\n",
    "                      normalize=True, save_name=os.path.join(save_folder, 'conf_mat_test.png'))\n",
    "\n",
    "\n",
    "clf_report = metrics.classification_report(y_test, y_pred , target_names=classes_test)\n",
    "print(clf_report)\n",
    "clf_report = metrics.classification_report(y_test, y_pred , target_names=classes_test, output_dict=True)\n",
    "\n",
    "\n",
    "df = pd.DataFrame(clf_report).transpose()\n",
    "df.to_csv(os.path.join(save_folder, 'classification_report_test.csv'), sep='\\t')\n",
    "\n",
    "\n",
    "d = {'y_pred': y_pred_softmax,\n",
    "    'y_pred_argmax': y_pred,\n",
    "    'y_true': y_test,\n",
    "    'cmat': matrix,\n",
    "    'cls_lbl_map': classes_test,\n",
    "    'file_names': test_file_name}\n",
    "with open(os.path.join(save_folder, \"test_pred.pk\"), \"wb\") as output_file:\n",
    "    pkl.dump(d, output_file)\n",
    "    \n",
    "    \n",
    "\n",
    "w_config.test_accuracy = clf_report['accuracy']\n"
   ]
  },
  {
   "cell_type": "code",
   "execution_count": 42,
   "metadata": {},
   "outputs": [
    {
     "data": {
      "application/javascript": "$(\"#save-notbook button\").trigger('click');\n",
      "text/plain": [
       "<IPython.core.display.Javascript object>"
      ]
     },
     "metadata": {},
     "output_type": "display_data"
    }
   ],
   "source": [
    "%%javascript\n",
    "$(\"#save-notbook button\").trigger('click');"
   ]
  },
  {
   "cell_type": "markdown",
   "metadata": {},
   "source": [
    "Reinitializing Datagenerators for train and validation datasets by keeping augmentation and shuffle flag as False"
   ]
  },
  {
   "cell_type": "code",
   "execution_count": 43,
   "metadata": {
    "gradient": {}
   },
   "outputs": [
    {
     "name": "stderr",
     "output_type": "stream",
     "text": [
      "2023-04-02 01:25:42.087747: I tensorflow/core/common_runtime/executor.cc:1197] [/device:CPU:0] (DEBUG INFO) Executor start aborting (this does not indicate an error and you can ignore this message): INVALID_ARGUMENT: You must feed a value for placeholder tensor 'Placeholder/_1' with dtype int64 and shape [8838,5]\n",
      "\t [[{{node Placeholder/_1}}]]\n",
      "2023-04-02 01:25:42.088296: I tensorflow/core/common_runtime/executor.cc:1197] [/device:CPU:0] (DEBUG INFO) Executor start aborting (this does not indicate an error and you can ignore this message): INVALID_ARGUMENT: You must feed a value for placeholder tensor 'Placeholder/_2' with dtype bool and shape [8838]\n",
      "\t [[{{node Placeholder/_2}}]]\n",
      "2023-04-02 01:25:42.625007: I tensorflow/core/common_runtime/executor.cc:1197] [/device:CPU:0] (DEBUG INFO) Executor start aborting (this does not indicate an error and you can ignore this message): INVALID_ARGUMENT: You must feed a value for placeholder tensor 'Placeholder/_2' with dtype bool and shape [2209]\n",
      "\t [[{{node Placeholder/_2}}]]\n",
      "2023-04-02 01:25:42.625518: I tensorflow/core/common_runtime/executor.cc:1197] [/device:CPU:0] (DEBUG INFO) Executor start aborting (this does not indicate an error and you can ignore this message): INVALID_ARGUMENT: You must feed a value for placeholder tensor 'Placeholder/_2' with dtype bool and shape [2209]\n",
      "\t [[{{node Placeholder/_2}}]]\n"
     ]
    }
   ],
   "source": [
    "\n",
    "train_data_gen, train_dataset_tf = give_generator_v2(file_names=train_file_name, labels=train_label, shuffle=False, \n",
    "                                   batch_size=w_config.batch_size, repeat=False, buffer_size=512, prefetch=True)\n",
    "\n",
    "val_data_gen, val_dataset_tf = give_generator_v2(file_names=val_file_name, labels=val_label, shuffle=False, \n",
    "                                 batch_size=w_config.batch_size, repeat=False, buffer_size=512, prefetch=True)\n"
   ]
  },
  {
   "cell_type": "markdown",
   "metadata": {},
   "source": [
    "Objective: For <b>inferencing</b> <br>\n",
    "Confusion matrix and Classification report on Train dataset\n",
    "\n"
   ]
  },
  {
   "cell_type": "code",
   "execution_count": 44,
   "metadata": {
    "gradient": {}
   },
   "outputs": [
    {
     "name": "stdout",
     "output_type": "stream",
     "text": [
      "69/69 [==============================] - 13s 190ms/step\n",
      "Normalized confusion matrix\n",
      "              precision    recall  f1-score   support\n",
      "\n",
      "      Switch       0.97      0.98      0.97       257\n",
      "    Checkbox       1.00      0.99      1.00      1016\n",
      "        Card       1.00      1.00      1.00      1741\n",
      "        Icon       1.00      1.00      1.00      3707\n",
      "      Button       1.00      1.00      1.00      2117\n",
      "\n",
      "    accuracy                           1.00      8838\n",
      "   macro avg       0.99      0.99      0.99      8838\n",
      "weighted avg       1.00      1.00      1.00      8838\n",
      "\n"
     ]
    },
    {
     "data": {
      "image/png": "[encoded data removed]",
      "text/plain": [
       "<Figure size 1200x1200 with 2 Axes>"
      ]
     },
     "metadata": {},
     "output_type": "display_data"
    }
   ],
   "source": [
    "\n",
    "y_pred_softmax = model.predict(train_dataset_tf, steps=len(train_file_name)/w_config.batch_size)\n",
    "y_pred = y_pred_softmax.argmax(axis=1)\n",
    "y_test = np.argmax(train_label,axis=1)\n",
    "matrix = confusion_matrix(y_test, y_pred)\n",
    "\n",
    "\n",
    "plot_confusion_matrix(matrix, classes_test , title = \"Confusion matrix\",\n",
    "                      normalize=True, save_name=os.path.join(save_folder, 'conf_mat_train.png'))\n",
    "\n",
    "\n",
    "clf_report = metrics.classification_report(y_test, y_pred , target_names=classes_train)\n",
    "print(clf_report)\n",
    "clf_report = metrics.classification_report(y_test, y_pred , target_names=classes_train, output_dict=True)\n",
    "\n",
    "\n",
    "df = pd.DataFrame(clf_report).transpose()\n",
    "df.to_csv(os.path.join(save_folder, 'classification_report_train.csv'), sep='\\t')\n",
    "\n",
    "\n",
    "d = {'y_pred': y_pred_softmax,\n",
    "    'y_pred_argmax': y_pred,\n",
    "    'y_true': y_test,\n",
    "    'cmat': matrix,\n",
    "    'cls_lbl_map': classes_train,\n",
    "    'file_names': train_file_name}\n",
    "with open(os.path.join(save_folder, \"train_pred.pk\"), \"wb\") as output_file:\n",
    "    pkl.dump(d, output_file)\n",
    "    \n",
    "w_config.train_accuracy = clf_report['accuracy']"
   ]
  },
  {
   "cell_type": "markdown",
   "metadata": {},
   "source": [
    "Objective: For <b>inferencing</b> <br>\n",
    "\n",
    "Confusion matrix and Classification report Validation dataset\n"
   ]
  },
  {
   "cell_type": "code",
   "execution_count": 45,
   "metadata": {
    "gradient": {
     "editing": false
    }
   },
   "outputs": [
    {
     "name": "stdout",
     "output_type": "stream",
     "text": [
      "17/17 [==============================] - 5s 274ms/step\n",
      "Normalized confusion matrix\n",
      "              precision    recall  f1-score   support\n",
      "\n",
      "      Switch       0.99      0.97      0.98        70\n",
      "    Checkbox       0.99      0.99      0.99       258\n",
      "        Card       0.99      1.00      0.99       428\n",
      "        Icon       0.99      1.00      1.00       918\n",
      "      Button       0.99      0.99      0.99       535\n",
      "\n",
      "    accuracy                           0.99      2209\n",
      "   macro avg       0.99      0.99      0.99      2209\n",
      "weighted avg       0.99      0.99      0.99      2209\n",
      "\n"
     ]
    },
    {
     "data": {
      "image/png": "[encoded data removed]",
      "text/plain": [
       "<Figure size 1200x1200 with 2 Axes>"
      ]
     },
     "metadata": {},
     "output_type": "display_data"
    }
   ],
   "source": [
    "\n",
    "y_pred_softmax = model.predict(val_dataset_tf, steps=len(val_file_name)/w_config.batch_size)\n",
    "y_pred = y_pred_softmax.argmax(axis=1)\n",
    "y_test = np.argmax(val_label,axis=1)\n",
    "matrix = confusion_matrix(y_test, y_pred)\n",
    "\n",
    "\n",
    "plot_confusion_matrix(matrix, classes_test , title = \"Confusion matrix\",\n",
    "                      normalize=True, save_name=os.path.join(save_folder, 'conf_mat_val.png'))\n",
    "\n",
    "\n",
    "clf_report = metrics.classification_report(y_test, y_pred , target_names=classes_train)\n",
    "print(clf_report)\n",
    "clf_report = metrics.classification_report(y_test, y_pred , target_names=classes_train, output_dict=True)\n",
    "\n",
    "\n",
    "df = pd.DataFrame(clf_report).transpose()\n",
    "df.to_csv(os.path.join(save_folder, 'classification_report_val.csv'), sep='\\t')\n",
    "\n",
    "\n",
    "d = {'y_pred': y_pred_softmax,\n",
    "    'y_pred_argmax': y_pred,\n",
    "    'y_true': y_test,\n",
    "    'cmat': matrix,\n",
    "    'cls_lbl_map': classes_train,\n",
    "    'file_names': val_file_name}\n",
    "with open(os.path.join(save_folder, \"val_pred.pk\"), \"wb\") as output_file:\n",
    "    pkl.dump(d, output_file)\n",
    "    \n",
    "w_config.val_accuracy = clf_report['accuracy']"
   ]
  },
  {
   "cell_type": "code",
   "execution_count": null,
   "metadata": {
    "gradient": {
     "editing": false
    }
   },
   "outputs": [],
   "source": [
    "%%javascript\n",
    "$(\"#save-notbook button\").trigger('click');"
   ]
  },
  {
   "cell_type": "code",
   "execution_count": null,
   "metadata": {
    "gradient": {
     "editing": false
    }
   },
   "outputs": [],
   "source": []
  },
  {
   "cell_type": "code",
   "execution_count": null,
   "metadata": {},
   "outputs": [],
   "source": [
    "!cp {notebook_name} {save_folder}"
   ]
  },
  {
   "cell_type": "code",
   "execution_count": null,
   "metadata": {},
   "outputs": [],
   "source": []
  },
  {
   "cell_type": "code",
   "execution_count": null,
   "metadata": {},
   "outputs": [],
   "source": []
  },
  {
   "cell_type": "code",
   "execution_count": null,
   "metadata": {},
   "outputs": [],
   "source": []
  },
  {
   "cell_type": "code",
   "execution_count": null,
   "metadata": {},
   "outputs": [],
   "source": []
  },
  {
   "cell_type": "code",
   "execution_count": null,
   "metadata": {},
   "outputs": [],
   "source": []
  }
 ],
 "metadata": {
  "interpreter": {
   "hash": "f105423b4adf4cc634b98cf4481e00717d8221271c0e5b06e1f86191b8e1036b"
  },
  "kernelspec": {
   "display_name": "Python 3 (ipykernel)",
   "language": "python",
   "name": "python3"
  },
  "language_info": {
   "codemirror_mode": {
    "name": "ipython",
    "version": 3
   },
   "file_extension": ".py",
   "mimetype": "text/x-python",
   "name": "python",
   "nbconvert_exporter": "python",
   "pygments_lexer": "ipython3",
   "version": "3.8.16"
  }
 },
 "nbformat": 4,
 "nbformat_minor": 2
}
