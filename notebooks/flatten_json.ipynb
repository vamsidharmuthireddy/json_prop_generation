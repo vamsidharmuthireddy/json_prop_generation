{
 "cells": [
  {
   "cell_type": "code",
   "execution_count": 1,
   "metadata": {},
   "outputs": [],
   "source": [
    "\n",
    "\n",
    "type_dict = {}\n",
    "\n",
    "def flatten_json(y):\n",
    "    out = {}\n",
    " \n",
    "    def flatten(x, name=''):\n",
    " \n",
    "        # If the Nested key-value\n",
    "        # pair is of dict type\n",
    "        type_key = str(type(x))\n",
    "            \n",
    "        if type(x) is dict:\n",
    " \n",
    "            for a in x:\n",
    "                flatten(x[a], name + a + '/')\n",
    "\n",
    "        elif type(x) is list:\n",
    "\n",
    "            i = 0\n",
    " \n",
    "            for a in x:\n",
    "                flatten(a, name + str(i) + '/')\n",
    "                i += 1\n",
    "        else:\n",
    "            out[name[:-1]] = x\n",
    " \n",
    "    flatten(y)\n",
    "    return out\n",
    "\n",
    "\n"
   ]
  },
  {
   "cell_type": "code",
   "execution_count": null,
   "metadata": {},
   "outputs": [],
   "source": []
  },
  {
   "cell_type": "code",
   "execution_count": 2,
   "metadata": {},
   "outputs": [],
   "source": [
    "import os\n",
    "\n",
    "src_path = '/home/vamsidhar/Documents/purecode/data_1'\n",
    "# dst_path = '/home/vamsidhar/Documents/purecode/data_2'\n",
    "\n",
    "dst_path_img = '/home/vamsidhar/Documents/purecode/data_2/images'\n",
    "dst_path_json = '/home/vamsidhar/Documents/purecode/data_2/properties'\n",
    "\n",
    "os.makedirs(dst_path_img, exist_ok=True)\n",
    "os.makedirs(dst_path_json, exist_ok=True)"
   ]
  },
  {
   "cell_type": "code",
   "execution_count": 3,
   "metadata": {},
   "outputs": [
    {
     "name": "stdout",
     "output_type": "stream",
     "text": [
      "13809 13809\n"
     ]
    }
   ],
   "source": [
    "import os\n",
    "import shutil\n",
    "import json\n",
    "\n",
    "file_paths_json = []\n",
    "file_paths_img = []\n",
    "\n",
    "for dirpath, dirnames, filenames in os.walk(src_path):\n",
    "    if len(dirnames) != 0:\n",
    "        for name in dirnames:\n",
    "            os.makedirs(os.path.join(dst_path, name), exist_ok=True)\n",
    "\n",
    "    if len(filenames) != 0:\n",
    "        for name in filenames:\n",
    "            path_src = os.path.join(dirpath, name)\n",
    "            if name.rsplit('.')[-1] == 'json':\n",
    "                path_dst = path_src.replace(src_path, dst_path_json)\n",
    "                file_paths_json.append((path_src, path_dst))\n",
    "            else:\n",
    "                path_dst = path_src.replace(src_path, dst_path_img)\n",
    "                file_paths_img.append((path_src, path_dst))\n",
    "\n",
    "                # print(path_src, path_dst)\n",
    "\n",
    "print(len(file_paths_json), len(file_paths_img))"
   ]
  },
  {
   "cell_type": "code",
   "execution_count": 4,
   "metadata": {},
   "outputs": [],
   "source": [
    "import shutil\n",
    "\n",
    "def process_and_shift_json(file_src_path, file_dst_path):\n",
    "    with open(file_src_path, 'r') as temp:\n",
    "        file = json.load(temp)\n",
    "        file = flatten_json(file)\n",
    "        file = json.dumps(file, indent=4)\n",
    "        # print(file_src_path, file_dst_path)\n",
    "        with open(file_dst_path, 'w') as temp_json:\n",
    "            temp_json.write(file)\n",
    "\n",
    "def process_and_shift_img(file_src_path, file_dst_path):\n",
    "    shutil.copy(file_src_path, file_dst_path)\n"
   ]
  },
  {
   "cell_type": "code",
   "execution_count": 5,
   "metadata": {},
   "outputs": [],
   "source": [
    "# for file_src_path, file_dst_path in file_paths_json:\n",
    "#     process_and_shift_files(file_src_path, file_dst_path)"
   ]
  },
  {
   "cell_type": "code",
   "execution_count": 6,
   "metadata": {},
   "outputs": [],
   "source": [
    "# process_and_shift_files(file_paths_json[0][0], file_paths_json[0][1])"
   ]
  },
  {
   "cell_type": "code",
   "execution_count": 8,
   "metadata": {},
   "outputs": [],
   "source": [
    "from multiprocessing.pool import Pool\n",
    "\n",
    "pool = Pool()\n",
    "result = pool.starmap_async(process_and_shift_json, file_paths_json)\n",
    "\n",
    "pool = Pool()\n",
    "result = pool.starmap_async(process_and_shift_img, file_paths_img)\n",
    "\n"
   ]
  },
  {
   "cell_type": "code",
   "execution_count": null,
   "metadata": {},
   "outputs": [],
   "source": []
  },
  {
   "cell_type": "code",
   "execution_count": null,
   "metadata": {},
   "outputs": [],
   "source": []
  }
 ],
 "metadata": {
  "kernelspec": {
   "display_name": ".venv",
   "language": "python",
   "name": "python3"
  },
  "language_info": {
   "codemirror_mode": {
    "name": "ipython",
    "version": 3
   },
   "file_extension": ".py",
   "mimetype": "text/x-python",
   "name": "python",
   "nbconvert_exporter": "python",
   "pygments_lexer": "ipython3",
   "version": "3.8.0"
  },
  "orig_nbformat": 4
 },
 "nbformat": 4,
 "nbformat_minor": 2
}
